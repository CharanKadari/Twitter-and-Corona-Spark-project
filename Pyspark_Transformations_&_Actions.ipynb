{
  "nbformat": 4,
  "nbformat_minor": 0,
  "metadata": {
    "colab": {
      "name": "Pyspark Transformations & Actions",
      "provenance": [],
      "collapsed_sections": [],
      "include_colab_link": true
    },
    "kernelspec": {
      "display_name": "Python 3",
      "name": "python3"
    }
  },
  "cells": [
    {
      "cell_type": "markdown",
      "metadata": {
        "id": "view-in-github",
        "colab_type": "text"
      },
      "source": [
        "<a href=\"https://colab.research.google.com/github/CharanKadari/Twitter-and-Corona-Spark-project/blob/main/Pyspark_Transformations_%26_Actions.ipynb\" target=\"_parent\"><img src=\"https://colab.research.google.com/assets/colab-badge.svg\" alt=\"Open In Colab\"/></a>"
      ]
    },
    {
      "cell_type": "markdown",
      "metadata": {
        "id": "5fCEDCU_qrC0"
      },
      "source": [
        "<p><img alt=\"Colaboratory logo\" height=\"45px\" src=\"/img/colab_favicon.ico\" align=\"left\" hspace=\"10px\" vspace=\"0px\"></p>\n",
        "\n",
        "<h1>What is Colaboratory?</h1>\n",
        "\n",
        "Colaboratory, or \"Colab\" for short, allows you to write and execute Python in your browser, with \n",
        "- Zero configuration required\n",
        "- Free access to GPUs\n",
        "- Easy sharing\n",
        "\n",
        "Whether you're a **student**, a **data scientist** or an **AI researcher**, Colab can make your work easier. Watch [Introduction to Colab](https://www.youtube.com/watch?v=inN8seMm7UI) to learn more, or just get started below!"
      ]
    },
    {
      "cell_type": "markdown",
      "metadata": {
        "id": "GJBs_flRovLc"
      },
      "source": [
        "## **Getting started**\n",
        "\n",
        "The document you are reading is not a static web page, but an interactive environment called a **Colab notebook** that lets you write and execute code.\n",
        "\n",
        "For example, here is a **code cell** with a short Python script that computes a value, stores it in a variable, and prints the result:"
      ]
    },
    {
      "cell_type": "code",
      "metadata": {
        "colab": {
          "base_uri": "https://localhost:8080/",
          "height": 34
        },
        "id": "gJr_9dXGpJ05",
        "outputId": "9f556d03-ec67-4950-a485-cfdba9ddd14d"
      },
      "source": [
        "seconds_in_a_day = 24 * 60 * 60\n",
        "seconds_in_a_day"
      ],
      "execution_count": null,
      "outputs": [
        {
          "output_type": "execute_result",
          "data": {
            "text/plain": [
              "86400"
            ]
          },
          "metadata": {
            "tags": []
          },
          "execution_count": 0
        }
      ]
    },
    {
      "cell_type": "markdown",
      "metadata": {
        "id": "2fhs6GZ4qFMx"
      },
      "source": [
        "To execute the code in the above cell, select it with a click and then either press the play button to the left of the code, or use the keyboard shortcut \"Command/Ctrl+Enter\". To edit the code, just click the cell and start editing.\n",
        "\n",
        "Variables that you define in one cell can later be used in other cells:"
      ]
    },
    {
      "cell_type": "code",
      "metadata": {
        "colab": {
          "base_uri": "https://localhost:8080/",
          "height": 34
        },
        "id": "-gE-Ez1qtyIA",
        "outputId": "94cb2224-0edf-457b-90b5-0ac3488d8a97"
      },
      "source": [
        "seconds_in_a_week = 7 * seconds_in_a_day\n",
        "seconds_in_a_week"
      ],
      "execution_count": null,
      "outputs": [
        {
          "output_type": "execute_result",
          "data": {
            "text/plain": [
              "604800"
            ]
          },
          "metadata": {
            "tags": []
          },
          "execution_count": 0
        }
      ]
    },
    {
      "cell_type": "markdown",
      "metadata": {
        "id": "lSrWNr3MuFUS"
      },
      "source": [
        "Colab notebooks allow you to combine **executable code** and **rich text** in a single document, along with **images**, **HTML**, **LaTeX** and more. When you create your own Colab notebooks, they are stored in your Google Drive account. You can easily share your Colab notebooks with co-workers or friends, allowing them to comment on your notebooks or even edit them. To learn more, see [Overview of Colab](/notebooks/basic_features_overview.ipynb). To create a new Colab notebook you can use the File menu above, or use the following link: [create a new Colab notebook](http://colab.research.google.com#create=true).\n",
        "\n",
        "Colab notebooks are Jupyter notebooks that are hosted by Colab. To learn more about the Jupyter project, see [jupyter.org](https://www.jupyter.org)."
      ]
    },
    {
      "cell_type": "markdown",
      "metadata": {
        "id": "UdRyKR44dcNI"
      },
      "source": [
        "## Data science\n",
        "\n",
        "With Colab you can harness the full power of popular Python libraries to analyze and visualize data. The code cell below uses **numpy** to generate some random data, and uses **matplotlib** to visualize it. To edit the code, just click the cell and start editing."
      ]
    },
    {
      "cell_type": "code",
      "metadata": {
        "colab": {
          "base_uri": "https://localhost:8080/",
          "height": 281
        },
        "id": "C4HZx7Gndbrh",
        "outputId": "46abc637-6abd-41b2-9bba-80a7ae992e06"
      },
      "source": [
        "import numpy as np\n",
        "from matplotlib import pyplot as plt\n",
        "\n",
        "ys = 200 + np.random.randn(100)\n",
        "x = [x for x in range(len(ys))]\n",
        "\n",
        "plt.plot(x, ys, '-')\n",
        "plt.fill_between(x, ys, 195, where=(ys > 195), facecolor='g', alpha=0.6)\n",
        "\n",
        "plt.title(\"Sample Visualization\")\n",
        "plt.show()"
      ],
      "execution_count": null,
      "outputs": [
        {
          "output_type": "display_data",
          "data": {
            "image/png": "[encoded data removed]",
            "text/plain": [
              "<Figure size 432x288 with 1 Axes>"
            ]
          },
          "metadata": {
            "tags": []
          }
        }
      ]
    },
    {
      "cell_type": "markdown",
      "metadata": {
        "id": "4_kCnsPUqS6o"
      },
      "source": [
        "You can import your own data into Colab notebooks from your Google Drive account, including from spreadsheets, as well as from Github and many other sources. To learn more about importing data, and how Colab can be used for data science, see the links below under [Working with Data](#working-with-data)."
      ]
    },
    {
      "cell_type": "markdown",
      "metadata": {
        "id": "OwuxHmxllTwN"
      },
      "source": [
        "## Machine learning\n",
        "\n",
        "With Colab you can import an image dataset, train an image classifier on it, and evaluate the model, all in just [a few lines of code](https://colab.research.google.com/github/tensorflow/docs/blob/master/site/en/tutorials/quickstart/beginner.ipynb). Colab notebooks execute code on Google's cloud servers, meaning you can leverage the power of Google hardware, including [GPUs and TPUs](#using-accelerated-hardware), regardless of the power of your machine. All you need is a browser."
      ]
    },
    {
      "cell_type": "markdown",
      "metadata": {
        "id": "ufxBm1yRnruN"
      },
      "source": [
        "Colab is used extensively in the machine learning community with applications including:\n",
        "- Getting started with TensorFlow\n",
        "- Developing and training neural networks\n",
        "- Experimenting with TPUs\n",
        "- Disseminating AI research\n",
        "- Creating tutorials\n",
        "\n",
        "To see sample Colab notebooks that demonstrate machine learning applications, see the [machine learning examples](#machine-learning-examples) below."
      ]
    },
    {
      "cell_type": "markdown",
      "metadata": {
        "id": "-Rh3-Vt9Nev9"
      },
      "source": [
        "## More Resources\n",
        "\n",
        "### Working with Notebooks in Colab\n",
        "- [Overview of Colaboratory](/notebooks/basic_features_overview.ipynb)\n",
        "- [Guide to Markdown](/notebooks/markdown_guide.ipynb)\n",
        "- [Importing libraries and installing dependencies](/notebooks/snippets/importing_libraries.ipynb)\n",
        "- [Saving and loading notebooks in GitHub](https://colab.research.google.com/github/googlecolab/colabtools/blob/master/notebooks/colab-github-demo.ipynb)\n",
        "- [Interactive forms](/notebooks/forms.ipynb)\n",
        "- [Interactive widgets](/notebooks/widgets.ipynb)\n",
        "- <img src=\"/img/new.png\" height=\"20px\" align=\"left\" hspace=\"4px\" alt=\"New\"></img>\n",
        " [TensorFlow 2 in Colab](/notebooks/tensorflow_version.ipynb)\n",
        "\n",
        "<a name=\"working-with-data\"></a>\n",
        "### Working with Data\n",
        "- [Loading data: Drive, Sheets, and Google Cloud Storage](/notebooks/io.ipynb) \n",
        "- [Charts: visualizing data](/notebooks/charts.ipynb)\n",
        "- [Getting started with BigQuery](/notebooks/bigquery.ipynb)\n",
        "\n",
        "### Machine Learning Crash Course\n",
        "These are a few of the notebooks from Google's online Machine Learning course. See the [full course website](https://developers.google.com/machine-learning/crash-course/) for more.\n",
        "- [Intro to Pandas](/notebooks/mlcc/intro_to_pandas.ipynb)\n",
        "- [Tensorflow concepts](/notebooks/mlcc/tensorflow_programming_concepts.ipynb)\n",
        "- [First steps with TensorFlow](/notebooks/mlcc/first_steps_with_tensor_flow.ipynb)\n",
        "- [Intro to neural nets](/notebooks/mlcc/intro_to_neural_nets.ipynb)\n",
        "- [Intro to sparse data and embeddings](/notebooks/mlcc/intro_to_sparse_data_and_embeddings.ipynb)\n",
        "\n",
        "<a name=\"using-accelerated-hardware\"></a>\n",
        "### Using Accelerated Hardware\n",
        "- [TensorFlow with GPUs](/notebooks/gpu.ipynb)\n",
        "- [TensorFlow with TPUs](/notebooks/tpu.ipynb)"
      ]
    },
    {
      "cell_type": "markdown",
      "metadata": {
        "id": "P-H6Lw1vyNNd"
      },
      "source": [
        "<a name=\"machine-learning-examples\"></a>\n",
        "\n",
        "## Machine Learning Examples\n",
        "\n",
        "To see end-to-end examples of the interactive machine learning analyses that Colaboratory makes possible, check out these  tutorials using models from [TensorFlow Hub](https://tfhub.dev).\n",
        "\n",
        "A few featured examples:\n",
        "\n",
        "- [Retraining an Image Classifier](https://tensorflow.org/hub/tutorials/tf2_image_retraining): Build a Keras model on top of a pre-trained image classifier to distinguish flowers.\n",
        "- [Text Classification](https://tensorflow.org/hub/tutorials/tf2_text_classification): Classify IMDB movie reviews as either *positive* or *negative*.\n",
        "- [Style Transfer](https://tensorflow.org/hub/tutorials/tf2_arbitrary_image_stylization): Use deep learning to transfer style between images.\n",
        "- [Multilingual Universal Sentence Encoder Q&A](https://tensorflow.org/hub/tutorials/retrieval_with_tf_hub_universal_encoder_qa): Use a machine learning model to answer questions from the SQuAD dataset.\n",
        "- [Video Interpolation](https://tensorflow.org/hub/tutorials/tweening_conv3d): Predict what happened in a video between the first and the last frame.\n"
      ]
    },
    {
      "cell_type": "code",
      "metadata": {
        "id": "AjMazjrrQ877"
      },
      "source": [
        "!apt-get install openjdk-8-jdk-headless -qq > /dev/null\n",
        "!wget -q https://downloads.apache.org/spark/spark-3.1.1/spark-3.1.1-bin-hadoop2.7.tgz\n",
        "!tar xf spark-3.1.1-bin-hadoop2.7.tgz\n",
        "!pip install -q findspark"
      ],
      "execution_count": null,
      "outputs": []
    },
    {
      "cell_type": "code",
      "metadata": {
        "id": "uk5UX_B6Q9uo",
        "colab": {
          "base_uri": "https://localhost:8080/"
        },
        "outputId": "355ef0c2-565c-4e71-bf36-9e65f95d0c21"
      },
      "source": [
        "!ls /usr/lib/jvm/"
      ],
      "execution_count": null,
      "outputs": [
        {
          "output_type": "stream",
          "text": [
            "default-java\t\t   java-11-openjdk-amd64     java-8-openjdk-amd64\n",
            "java-1.11.0-openjdk-amd64  java-1.8.0-openjdk-amd64\n"
          ],
          "name": "stdout"
        }
      ]
    },
    {
      "cell_type": "code",
      "metadata": {
        "id": "LTsA0BWWQ9zs"
      },
      "source": [
        "import os\n",
        "os.environ[\"JAVA_HOME\"] = \"/usr/lib/jvm/java-8-openjdk-amd64\"\n",
        "os.environ[\"SPARK_HOME\"] = \"/content/spark-3.1.1-bin-hadoop2.7\""
      ],
      "execution_count": null,
      "outputs": []
    },
    {
      "cell_type": "code",
      "metadata": {
        "id": "rKK-X7D_Q90_"
      },
      "source": [
        "import findspark\n",
        "findspark.init()\n",
        "from pyspark.sql import SparkSession\n",
        "spark = SparkSession.builder.master(\"local[*]\").getOrCreate()"
      ],
      "execution_count": null,
      "outputs": []
    },
    {
      "cell_type": "code",
      "metadata": {
        "id": "GIMMG6XJQ92P"
      },
      "source": [
        "import sys,tempfile, urllib.request\n",
        "from pyspark.sql.functions import *"
      ],
      "execution_count": null,
      "outputs": []
    },
    {
      "cell_type": "code",
      "metadata": {
        "id": "nBVJU-MFQ94V"
      },
      "source": [
        "BASE_DIR = '/tmp'\n",
        "CORONA_DATA_FILE = os.path.join(BASE_DIR, 'corona_data.csv')"
      ],
      "execution_count": null,
      "outputs": []
    },
    {
      "cell_type": "code",
      "metadata": {
        "id": "YFsJr9n2Q96-"
      },
      "source": [
        "corona_data = urllib.request.urlretrieve('https://drive.google.com/drive/u/2/folders/1MwirQPI7q6gYqrqPEYVONQq4LeklWDdj', CORONA_DATA_FILE)"
      ],
      "execution_count": null,
      "outputs": []
    },
    {
      "cell_type": "code",
      "metadata": {
        "id": "rwM5wpfUQ99h"
      },
      "source": [
        "BASE_DIR = '/tmp'\n",
        "TWITTER_DATA_FILE = os.path.join(BASE_DIR,'twitter_data.csv')"
      ],
      "execution_count": null,
      "outputs": []
    },
    {
      "cell_type": "code",
      "metadata": {
        "id": "Kw7KUe_zQ-AF"
      },
      "source": [
        "tweet_data = urllib.request.urlretrieve('https://raw.githubusercontent.com/srivatsan88/YouTubeLI/master/dataset/coronavirus/tweets.csv', TWITTER_DATA_FILE)"
      ],
      "execution_count": null,
      "outputs": []
    },
    {
      "cell_type": "code",
      "metadata": {
        "colab": {
          "base_uri": "https://localhost:8080/"
        },
        "id": "gvFRQBQEZTwR",
        "outputId": "9bba3b6d-8b70-4b53-d39d-0b14e8a2daed"
      },
      "source": [
        "!ls /tmp"
      ],
      "execution_count": null,
      "outputs": [
        {
          "output_type": "stream",
          "text": [
            "blockmgr-c67b2039-8bfe-42bf-bfd5-70798ec4714a\n",
            "corona_data.csv\n",
            "dap_multiplexer.de1e1a7aa4f6.root.log.INFO.20210512-111252.47\n",
            "dap_multiplexer.INFO\n",
            "debugger_c5oeu0z0d\n",
            "hsperfdata_root\n",
            "initgoogle_syslog_dir.0\n",
            "spark-89382ab2-b76f-468d-83fc-d9432f0f405e\n",
            "spark-ce24b6c1-a792-47e3-9f5e-6c4bf8f9e7d6\n",
            "twitter_data.csv\n"
          ],
          "name": "stdout"
        }
      ]
    },
    {
      "cell_type": "code",
      "metadata": {
        "id": "A6-AA1urZTy_"
      },
      "source": [
        "corona_df = spark.read.option(\"inferschema\", \"true\").csv(\"/tmp/corona_data.csv\", header=True)"
      ],
      "execution_count": null,
      "outputs": []
    },
    {
      "cell_type": "code",
      "metadata": {
        "colab": {
          "base_uri": "https://localhost:8080/",
          "height": 163
        },
        "id": "C9rd9_wqZT3B",
        "outputId": "79317556-715f-4e2f-9b4c-af34656e40be"
      },
      "source": [
        "corona_df.show()"
      ],
      "execution_count": null,
      "outputs": [
        {
          "output_type": "error",
          "ename": "NameError",
          "evalue": "ignored",
          "traceback": [
            "\u001b[0;31m---------------------------------------------------------------------------\u001b[0m",
            "\u001b[0;31mNameError\u001b[0m                                 Traceback (most recent call last)",
            "\u001b[0;32m<ipython-input-1-622e8f3e0ddc>\u001b[0m in \u001b[0;36m<module>\u001b[0;34m()\u001b[0m\n\u001b[0;32m----> 1\u001b[0;31m \u001b[0mcorona_df\u001b[0m\u001b[0;34m.\u001b[0m\u001b[0mshow\u001b[0m\u001b[0;34m(\u001b[0m\u001b[0;34m)\u001b[0m\u001b[0;34m\u001b[0m\u001b[0;34m\u001b[0m\u001b[0m\n\u001b[0m",
            "\u001b[0;31mNameError\u001b[0m: name 'corona_df' is not defined"
          ]
        }
      ]
    },
    {
      "cell_type": "code",
      "metadata": {
        "colab": {
          "base_uri": "https://localhost:8080/"
        },
        "id": "2SR0RpZRZT5I",
        "outputId": "920de1e8-c5f1-4378-b5dc-1b4b7245cfa4"
      },
      "source": [
        "corona_df.count()"
      ],
      "execution_count": null,
      "outputs": [
        {
          "output_type": "execute_result",
          "data": {
            "text/plain": [
              "27075"
            ]
          },
          "metadata": {
            "tags": []
          },
          "execution_count": 16
        }
      ]
    },
    {
      "cell_type": "code",
      "metadata": {
        "id": "um06IZTRZUGO"
      },
      "source": [
        "twitter_df = spark.read.option(\"inferschema\", \"true\").csv(\"/tmp/twitter_data.csv\", header=True)"
      ],
      "execution_count": null,
      "outputs": []
    },
    {
      "cell_type": "code",
      "metadata": {
        "colab": {
          "base_uri": "https://localhost:8080/"
        },
        "id": "xbIoHc2HZUJk",
        "outputId": "392778ea-86ff-45cd-9000-4043adbfa86c"
      },
      "source": [
        "twitter_df.show()"
      ],
      "execution_count": null,
      "outputs": [
        {
          "output_type": "stream",
          "text": [
            "+---+----+--------------------+--------------------+--------------------+--------------------+--------------------+--------------------+\n",
            "|_c0| geo|                text|                user|            location|            entities|           sentiment|             country|\n",
            "+---+----+--------------------+--------------------+--------------------+--------------------+--------------------+--------------------+\n",
            "|  0|null|What is God sayin...|          petodinice|               Lagos|[('about #', 'CAR...|{'neg': 0.0, 'neu...|             Nigeria|\n",
            "|  1|null|\"BREAKING: \"\"this...| but i took the t...|                -… \"|     JerryfranksonJF|      Abuja, Nigeria|\"[(\"\"Arsenal's Mi...|\n",
            "|  2|null| #Coronavirus tes...|              cek422|   Pennsylvania, USA|                  []|{'neg': 0.173, 'n...|                 USA|\n",
            "|  3|null| Get ready for ma...|        InfectiousDz|                 NYC|[('World', 'ORG')...|{'neg': 0.085, 'n...|                 USA|\n",
            "|  4|null| The #coronavirus...|          vic_gibson|                null|                ['']|{'neg': 0.0, 'neu...|                null|\n",
            "|  5|null| COVID-19 update ...|      StewartNgilana|Durban | Port Eli...|[('Italy', 'GPE')...|{'neg': 0.178, 'n...|                 USA|\n",
            "|  6|null| It’s painful to ...|           BWheatnyc|             Florida|                  []|{'neg': 0.098, 'n...|                 USA|\n",
            "|  7|null| 📽️Friends, I wi...|             LorseaR|New South Wales, ...|[('Twitter', 'GPE...|{'neg': 0.123, 'n...|           Australia|\n",
            "|  8|null| Questions about ...|         straightj23|        Columbus, OH|[('NAfME', 'CARDI...|{'neg': 0.0, 'neu...|                 USA|\n",
            "|  9|null|How they’re deali...|       _______coolio| South East, England|['', ('Portsmouth...|{'neg': 0.126, 'n...|                  UK|\n",
            "| 10|null| BREAKING: Democr...|      champagneaylin|                null|[('Democrats', 'N...|{'neg': 0.221, 'n...|                null|\n",
            "| 11|null| “If we close dow...|       YorkLawLondon|                  UK|                  []|{'neg': 0.0, 'neu...|      United Kingdom|\n",
            "| 12|null| I pity the poor ...|      BeesonMargaret|                null|                ['']|{'neg': 0.227, 'n...|                null|\n",
            "| 13|null| We’re the heck w...|      harrytiffanyiv| Fort Washington, PA|[('the last 6 wee...|{'neg': 0.0, 'neu...|                 USA|\n",
            "| 14|null| I don't think sh...|         grammyheath|                null|[('Joy', 'PERSON'...|{'neg': 0.0, 'neu...|                null|\n",
            "| 15|null| Well written, so...|      barbara_ellena|Christchurch City...|                  []|{'neg': 0.0, 'neu...|         New Zealand|\n",
            "| 16|null| 1/2 CDC Director...|               fatal|                 USA|[('1/2', 'CARDINA...|{'neg': 0.139, 'n...|       United States|\n",
            "| 17|null| In all seriousne...|          pwjkmiller|                null|                ['']|{'neg': 0.218, 'n...|                null|\n",
            "| 18|null| Wash your hands....|        Mrrandy123RP|          Texas, USA|            ['', '']|{'neg': 0.0, 'neu...|                 USA|\n",
            "| 19|null| #CoronaVirusCana...|           aliensky0|           Worldwide|['', ('CoronaViru...|{'neg': 0.0, 'neu...|                 USA|\n",
            "+---+----+--------------------+--------------------+--------------------+--------------------+--------------------+--------------------+\n",
            "only showing top 20 rows\n",
            "\n"
          ],
          "name": "stdout"
        }
      ]
    },
    {
      "cell_type": "code",
      "metadata": {
        "id": "5R0PHINhQ-DU",
        "colab": {
          "base_uri": "https://localhost:8080/"
        },
        "outputId": "57ce6137-5e77-4ce4-bdba-bf3b55213969"
      },
      "source": [
        "twitter_df.count()"
      ],
      "execution_count": null,
      "outputs": [
        {
          "output_type": "execute_result",
          "data": {
            "text/plain": [
              "1000"
            ]
          },
          "metadata": {
            "tags": []
          },
          "execution_count": 20
        }
      ]
    },
    {
      "cell_type": "code",
      "metadata": {
        "colab": {
          "base_uri": "https://localhost:8080/"
        },
        "id": "KJJdcOjrcvin",
        "outputId": "062f4f63-dca2-4771-a37e-a0c4db0b4c44"
      },
      "source": [
        "twitter_df.filter(\"country='USA'\").show()"
      ],
      "execution_count": null,
      "outputs": [
        {
          "output_type": "stream",
          "text": [
            "+---+----+--------------------+---------------+--------------------+--------------------+--------------------+-------+\n",
            "|_c0| geo|                text|           user|            location|            entities|           sentiment|country|\n",
            "+---+----+--------------------+---------------+--------------------+--------------------+--------------------+-------+\n",
            "|  2|null| #Coronavirus tes...|         cek422|   Pennsylvania, USA|                  []|{'neg': 0.173, 'n...|    USA|\n",
            "|  3|null| Get ready for ma...|   InfectiousDz|                 NYC|[('World', 'ORG')...|{'neg': 0.085, 'n...|    USA|\n",
            "|  5|null| COVID-19 update ...| StewartNgilana|Durban | Port Eli...|[('Italy', 'GPE')...|{'neg': 0.178, 'n...|    USA|\n",
            "|  6|null| It’s painful to ...|      BWheatnyc|             Florida|                  []|{'neg': 0.098, 'n...|    USA|\n",
            "|  8|null| Questions about ...|    straightj23|        Columbus, OH|[('NAfME', 'CARDI...|{'neg': 0.0, 'neu...|    USA|\n",
            "| 13|null| We’re the heck w...| harrytiffanyiv| Fort Washington, PA|[('the last 6 wee...|{'neg': 0.0, 'neu...|    USA|\n",
            "| 18|null| Wash your hands....|   Mrrandy123RP|          Texas, USA|            ['', '']|{'neg': 0.0, 'neu...|    USA|\n",
            "| 19|null| #CoronaVirusCana...|      aliensky0|           Worldwide|['', ('CoronaViru...|{'neg': 0.0, 'neu...|    USA|\n",
            "| 24|null| Dr. Dena Grayson...|billymocolorad2|         Denver area|[('Dena Grayson',...|{'neg': 0.0, 'neu...|    USA|\n",
            "| 29|null| #BREAKING Univer...|  _pulido_nenaa|         Fontana, CA|['', ('BREAKING U...|{'neg': 0.0, 'neu...|    USA|\n",
            "| 31|null| I ordered Alex J...|       rcgillan|       New York, USA|[('Alex Jones', '...|{'neg': 0.109, 'n...|    USA|\n",
            "| 32|null| #CoronavirusExpe...|        AD1968F|California / Florida|['', ('Coronaviru...|{'neg': 0.0, 'neu...|    USA|\n",
            "| 34|null| There is no obje...|       SFAuGrrl|   San Francisco, CA|['', ('FamiliesFi...|{'neg': 0.224, 'n...|    USA|\n",
            "| 36|null| Before #coronavi...|   Frankapistan|       Nashville, TN|[('China', 'GPE')...|{'neg': 0.144, 'n...|    USA|\n",
            "| 40|null|  When it's actua...|      Happyjam5|     Los Angeles, Ca|[('GOP', 'ORG'), ...|{'neg': 0.215, 'n...|    USA|\n",
            "| 41|null|#Coronavirus in #...|   GregoryGLake|              Global|['', ('5', 'CARDI...|{'neg': 0.318, 'n...|    USA|\n",
            "| 49|null| This week we are...|  JamesWithers3|  New York, New York|[('This week', 'D...|{'neg': 0.0, 'neu...|    USA|\n",
            "| 50|null| Trump is now doi...|      NewNewsey|          everywhere|[('Trump', 'ORG')...|{'neg': 0.0, 'neu...|    USA|\n",
            "| 55|null| The last patient...|   Khattarperla|          Highgarden|  [('Wuhan', 'GPE')]|{'neg': 0.0, 'neu...|    USA|\n",
            "| 56|null|...Hope y’all sta...|  Brandon4Brody|          Pueblo, CO|[('CDC', 'ORG'), ...|{'neg': 0.0, 'neu...|    USA|\n",
            "+---+----+--------------------+---------------+--------------------+--------------------+--------------------+-------+\n",
            "only showing top 20 rows\n",
            "\n"
          ],
          "name": "stdout"
        }
      ]
    },
    {
      "cell_type": "code",
      "metadata": {
        "colab": {
          "base_uri": "https://localhost:8080/"
        },
        "id": "n44_sGo5cvlT",
        "outputId": "8d1dfe71-5900-4ef0-ca8c-04355d388fa0"
      },
      "source": [
        "twitter_df.filter(\"country='USA' and location like 'New%'\").show()"
      ],
      "execution_count": null,
      "outputs": [
        {
          "output_type": "stream",
          "text": [
            "+---+----+--------------------+---------------+------------------+--------------------+--------------------+-------+\n",
            "|_c0| geo|                text|           user|          location|            entities|           sentiment|country|\n",
            "+---+----+--------------------+---------------+------------------+--------------------+--------------------+-------+\n",
            "| 31|null| I ordered Alex J...|       rcgillan|     New York, USA|[('Alex Jones', '...|{'neg': 0.109, 'n...|    USA|\n",
            "| 49|null| This week we are...|  JamesWithers3|New York, New York|[('This week', 'D...|{'neg': 0.0, 'neu...|    USA|\n",
            "|228|null|This is a very co...|baskingntheGlow|     New York City|[('hourly', 'TIME')]|{'neg': 0.12, 'ne...|    USA|\n",
            "|238|null|I’m reposting thi...|   Veronicaromm|   New Jersey, USA|[('English', 'LAN...|{'neg': 0.0, 'neu...|    USA|\n",
            "|261|null|Too early ...?  #...|      HJeppesen|      New York, NY|                ['']|{'neg': 0.0, 'neu...|    USA|\n",
            "|275|null|  The Republican ...|  GenetBataiile|New Hampshire, USA|[('Republican', '...|{'neg': 0.0, 'neu...|    USA|\n",
            "|369|null| I still look to ...|   SusanSeaside|       New England|[('SouthKorea', '...|{'neg': 0.0, 'neu...|    USA|\n",
            "|438|null|Can we call the #...|       nilchaks|   New Jersey, USA|                ['']|{'neg': 0.194, 'n...|    USA|\n",
            "|458|null| New deadly #coro...| ssummersabrina|   New Jersey, USA|                ['']|{'neg': 0.236, 'n...|    USA|\n",
            "|471|null|What the Caged Bi...|    AaronNetsky|      New York, NY|                  []|{'neg': 0.0, 'neu...|    USA|\n",
            "|553|null|Me: Tired of hear...|     AmandaB_B8|New Hampshire, USA|['', ('tonight', ...|{'neg': 0.252, 'n...|    USA|\n",
            "|612|null| New deadly #coro...|       klazimi1|     New York, USA|                ['']|{'neg': 0.236, 'n...|    USA|\n",
            "|622|null|Can someone pleas...|         pitaru|          New York|                ['']|{'neg': 0.168, 'n...|    USA|\n",
            "|664|null|Marriage in 2020 ...|           sciz|      New York, NY|[('2020', 'DATE')...|{'neg': 0.111, 'n...|    USA|\n",
            "|679|null|ALL MY MONEY ON E...|  misterauyeung|      New York, NY|[('ETF', 'ORG'), '']|{'neg': 0.148, 'n...|    USA|\n",
            "|724|null|#UniversalStudios...| cosmicbooknews|     New York, USA|['', ('UniversalS...|{'neg': 0.0, 'neu...|    USA|\n",
            "|850|null| There is no obje...|         rm1268|     New York, USA|['', ('FamiliesFi...|{'neg': 0.224, 'n...|    USA|\n",
            "|857|null| #Coronavirus Isr...| itsbenjamindoe|      New York, NY|['', ('Coronaviru...|{'neg': 0.0, 'neu...|    USA|\n",
            "|866|null| What a lousy day...|        insur58|        New Jersey|[('USA', 'GPE'), ...|{'neg': 0.085, 'n...|    USA|\n",
            "|919|null|\" #NEW \"\"Presiden...|      smcapgreg|   New Jersey, USA|[('NEW', 'ORG'), ...|{'neg': 0.167, 'n...|    USA|\n",
            "+---+----+--------------------+---------------+------------------+--------------------+--------------------+-------+\n",
            "only showing top 20 rows\n",
            "\n"
          ],
          "name": "stdout"
        }
      ]
    },
    {
      "cell_type": "code",
      "metadata": {
        "id": "RcVP4W5Gcvn1"
      },
      "source": [
        "tw_filter_df=twitter_df.filter(\"country='USA'\")"
      ],
      "execution_count": null,
      "outputs": []
    },
    {
      "cell_type": "code",
      "metadata": {
        "colab": {
          "base_uri": "https://localhost:8080/"
        },
        "id": "K0i1STGzcvqt",
        "outputId": "aa5a1eb9-f062-4bf0-8c7a-6b82d9aa6c7e"
      },
      "source": [
        "tw_filter_df.explain()"
      ],
      "execution_count": null,
      "outputs": [
        {
          "output_type": "stream",
          "text": [
            "== Physical Plan ==\n",
            "*(1) Filter (isnotnull(country#171) AND (country#171 = USA))\n",
            "+- FileScan csv [_c0#164,geo#165,text#166,user#167,location#168,entities#169,sentiment#170,country#171] Batched: false, DataFilters: [isnotnull(country#171), (country#171 = USA)], Format: CSV, Location: InMemoryFileIndex[file:/tmp/twitter_data.csv], PartitionFilters: [], PushedFilters: [IsNotNull(country), EqualTo(country,USA)], ReadSchema: struct<_c0:int,geo:string,text:string,user:string,location:string,entities:string,sentiment:strin...\n",
            "\n",
            "\n"
          ],
          "name": "stdout"
        }
      ]
    },
    {
      "cell_type": "code",
      "metadata": {
        "id": "pDzXoWvmcvtm"
      },
      "source": [
        "tw_filter_df=twitter_df.filter(\"country='USA' and location like 'New%'\")"
      ],
      "execution_count": null,
      "outputs": []
    },
    {
      "cell_type": "code",
      "metadata": {
        "colab": {
          "base_uri": "https://localhost:8080/"
        },
        "id": "IKxmCHPtcvwd",
        "outputId": "bc58668e-e0b9-4e2c-d029-cded87639a21"
      },
      "source": [
        "tw_filter_df.explain()"
      ],
      "execution_count": null,
      "outputs": [
        {
          "output_type": "stream",
          "text": [
            "== Physical Plan ==\n",
            "*(1) Filter (((isnotnull(country#171) AND isnotnull(location#168)) AND (country#171 = USA)) AND StartsWith(location#168, New))\n",
            "+- FileScan csv [_c0#164,geo#165,text#166,user#167,location#168,entities#169,sentiment#170,country#171] Batched: false, DataFilters: [isnotnull(country#171), isnotnull(location#168), (country#171 = USA), StartsWith(location#168, N..., Format: CSV, Location: InMemoryFileIndex[file:/tmp/twitter_data.csv], PartitionFilters: [], PushedFilters: [IsNotNull(country), IsNotNull(location), EqualTo(country,USA), StringStartsWith(location,New)], ReadSchema: struct<_c0:int,geo:string,text:string,user:string,location:string,entities:string,sentiment:strin...\n",
            "\n",
            "\n"
          ],
          "name": "stdout"
        }
      ]
    },
    {
      "cell_type": "code",
      "metadata": {
        "colab": {
          "base_uri": "https://localhost:8080/"
        },
        "id": "5kCn1Omocv0F",
        "outputId": "c1b80725-5a3f-480f-f5df-e4c53cd42517"
      },
      "source": [
        "tw_filter_df.show()"
      ],
      "execution_count": null,
      "outputs": [
        {
          "output_type": "stream",
          "text": [
            "+---+----+--------------------+---------------+------------------+--------------------+--------------------+-------+\n",
            "|_c0| geo|                text|           user|          location|            entities|           sentiment|country|\n",
            "+---+----+--------------------+---------------+------------------+--------------------+--------------------+-------+\n",
            "| 31|null| I ordered Alex J...|       rcgillan|     New York, USA|[('Alex Jones', '...|{'neg': 0.109, 'n...|    USA|\n",
            "| 49|null| This week we are...|  JamesWithers3|New York, New York|[('This week', 'D...|{'neg': 0.0, 'neu...|    USA|\n",
            "|228|null|This is a very co...|baskingntheGlow|     New York City|[('hourly', 'TIME')]|{'neg': 0.12, 'ne...|    USA|\n",
            "|238|null|I’m reposting thi...|   Veronicaromm|   New Jersey, USA|[('English', 'LAN...|{'neg': 0.0, 'neu...|    USA|\n",
            "|261|null|Too early ...?  #...|      HJeppesen|      New York, NY|                ['']|{'neg': 0.0, 'neu...|    USA|\n",
            "|275|null|  The Republican ...|  GenetBataiile|New Hampshire, USA|[('Republican', '...|{'neg': 0.0, 'neu...|    USA|\n",
            "|369|null| I still look to ...|   SusanSeaside|       New England|[('SouthKorea', '...|{'neg': 0.0, 'neu...|    USA|\n",
            "|438|null|Can we call the #...|       nilchaks|   New Jersey, USA|                ['']|{'neg': 0.194, 'n...|    USA|\n",
            "|458|null| New deadly #coro...| ssummersabrina|   New Jersey, USA|                ['']|{'neg': 0.236, 'n...|    USA|\n",
            "|471|null|What the Caged Bi...|    AaronNetsky|      New York, NY|                  []|{'neg': 0.0, 'neu...|    USA|\n",
            "|553|null|Me: Tired of hear...|     AmandaB_B8|New Hampshire, USA|['', ('tonight', ...|{'neg': 0.252, 'n...|    USA|\n",
            "|612|null| New deadly #coro...|       klazimi1|     New York, USA|                ['']|{'neg': 0.236, 'n...|    USA|\n",
            "|622|null|Can someone pleas...|         pitaru|          New York|                ['']|{'neg': 0.168, 'n...|    USA|\n",
            "|664|null|Marriage in 2020 ...|           sciz|      New York, NY|[('2020', 'DATE')...|{'neg': 0.111, 'n...|    USA|\n",
            "|679|null|ALL MY MONEY ON E...|  misterauyeung|      New York, NY|[('ETF', 'ORG'), '']|{'neg': 0.148, 'n...|    USA|\n",
            "|724|null|#UniversalStudios...| cosmicbooknews|     New York, USA|['', ('UniversalS...|{'neg': 0.0, 'neu...|    USA|\n",
            "|850|null| There is no obje...|         rm1268|     New York, USA|['', ('FamiliesFi...|{'neg': 0.224, 'n...|    USA|\n",
            "|857|null| #Coronavirus Isr...| itsbenjamindoe|      New York, NY|['', ('Coronaviru...|{'neg': 0.0, 'neu...|    USA|\n",
            "|866|null| What a lousy day...|        insur58|        New Jersey|[('USA', 'GPE'), ...|{'neg': 0.085, 'n...|    USA|\n",
            "|919|null|\" #NEW \"\"Presiden...|      smcapgreg|   New Jersey, USA|[('NEW', 'ORG'), ...|{'neg': 0.167, 'n...|    USA|\n",
            "+---+----+--------------------+---------------+------------------+--------------------+--------------------+-------+\n",
            "only showing top 20 rows\n",
            "\n"
          ],
          "name": "stdout"
        }
      ]
    },
    {
      "cell_type": "code",
      "metadata": {
        "colab": {
          "base_uri": "https://localhost:8080/"
        },
        "id": "94ZFeaficv2K",
        "outputId": "b5ec916b-ba4d-4240-a63a-9a23ff4a4fd0"
      },
      "source": [
        "twitter_df.first()"
      ],
      "execution_count": null,
      "outputs": [
        {
          "output_type": "execute_result",
          "data": {
            "text/plain": [
              "Row(_c0=0, geo=None, text='What is God saying to us about #coronavirus ?', user='petodinice', location='Lagos', entities=\"[('about #', 'CARDINAL')]\", sentiment=\"{'neg': 0.0, 'neu': 0.769, 'pos': 0.231, 'compound': 0.2732}\", country='Nigeria')"
            ]
          },
          "metadata": {
            "tags": []
          },
          "execution_count": 31
        }
      ]
    },
    {
      "cell_type": "code",
      "metadata": {
        "colab": {
          "base_uri": "https://localhost:8080/"
        },
        "id": "iSsqG3Dee808",
        "outputId": "e57f7b7d-4c4a-41c9-ecfd-5e57f7c0de62"
      },
      "source": [
        "twitter_df.take(4)"
      ],
      "execution_count": null,
      "outputs": [
        {
          "output_type": "execute_result",
          "data": {
            "text/plain": [
              "[Row(_c0=0, geo=None, text='What is God saying to us about #coronavirus ?', user='petodinice', location='Lagos', entities=\"[('about #', 'CARDINAL')]\", sentiment=\"{'neg': 0.0, 'neu': 0.769, 'pos': 0.231, 'compound': 0.2732}\", country='Nigeria'),\n",
              " Row(_c0=1, geo=None, text='\"BREAKING: \"\"this is disappointing', user=' but i took the test\"\". Arsenal\\'s Mikel Arteta tests positive for #coronavirus', location='  -… \"', entities='JerryfranksonJF', sentiment='Abuja, Nigeria', country='\"[(\"\"Arsenal\\'s Mikel Arteta\"\"'),\n",
              " Row(_c0=2, geo=None, text=' #Coronavirus testing must be made free to the public if we are going to understand the scope of this crisis. Anything le…', user='cek422', location='Pennsylvania, USA', entities='[]', sentiment=\"{'neg': 0.173, 'neu': 0.71, 'pos': 0.117, 'compound': -0.3767}\", country='USA'),\n",
              " Row(_c0=3, geo=None, text=' Get ready for mass event crowd cancellations across the World starting this weekend: cricket in #Australia in empty st…', user='InfectiousDz', location='NYC', entities=\"[('World', 'ORG'), ('this weekend', 'DATE'), '']\", sentiment=\"{'neg': 0.085, 'neu': 0.798, 'pos': 0.117, 'compound': 0.1779}\", country='USA')]"
            ]
          },
          "metadata": {
            "tags": []
          },
          "execution_count": 32
        }
      ]
    },
    {
      "cell_type": "code",
      "metadata": {
        "colab": {
          "base_uri": "https://localhost:8080/"
        },
        "id": "b76u6NSpe84a",
        "outputId": "0dc37fe2-a26b-4716-dca2-1fa53dc29de3"
      },
      "source": [
        "x = spark.sparkContext.parallelize([1,2,3])\n",
        "y = x.flatMap(lambda x: (x,x*x))\n",
        "print(x.collect())\n",
        "print(y.collect())"
      ],
      "execution_count": null,
      "outputs": [
        {
          "output_type": "stream",
          "text": [
            "[1, 2, 3]\n",
            "[1, 1, 2, 4, 3, 9]\n"
          ],
          "name": "stdout"
        }
      ]
    },
    {
      "cell_type": "code",
      "metadata": {
        "colab": {
          "base_uri": "https://localhost:8080/"
        },
        "id": "wUvZEKJge86I",
        "outputId": "631b6e59-03a5-4dfe-e4cf-9a2c5cd934be"
      },
      "source": [
        "x = spark.sparkContext.parallelize([1,2,3])\n",
        "y = x.map(lambda x: (x,x*x))\n",
        "print(x.collect())\n",
        "print(y.collect())"
      ],
      "execution_count": null,
      "outputs": [
        {
          "output_type": "stream",
          "text": [
            "[1, 2, 3]\n",
            "[(1, 1), (2, 4), (3, 9)]\n"
          ],
          "name": "stdout"
        }
      ]
    },
    {
      "cell_type": "code",
      "metadata": {
        "colab": {
          "base_uri": "https://localhost:8080/"
        },
        "id": "fTT9bKQLe89V",
        "outputId": "1ef0df74-64d5-4064-f2fd-e5ed6a62448f"
      },
      "source": [
        "x"
      ],
      "execution_count": null,
      "outputs": [
        {
          "output_type": "execute_result",
          "data": {
            "text/plain": [
              "ParallelCollectionRDD[76] at readRDDFromFile at PythonRDD.scala:274"
            ]
          },
          "metadata": {
            "tags": []
          },
          "execution_count": 35
        }
      ]
    },
    {
      "cell_type": "code",
      "metadata": {
        "colab": {
          "base_uri": "https://localhost:8080/"
        },
        "id": "UXlh6Nx5e9AO",
        "outputId": "78fad576-0e97-40d5-804d-7679e98b4eda"
      },
      "source": [
        "twitter_df.select(\"text\").show(5)"
      ],
      "execution_count": null,
      "outputs": [
        {
          "output_type": "stream",
          "text": [
            "+--------------------+\n",
            "|                text|\n",
            "+--------------------+\n",
            "|What is God sayin...|\n",
            "|\"BREAKING: \"\"this...|\n",
            "| #Coronavirus tes...|\n",
            "| Get ready for ma...|\n",
            "| The #coronavirus...|\n",
            "+--------------------+\n",
            "only showing top 5 rows\n",
            "\n"
          ],
          "name": "stdout"
        }
      ]
    },
    {
      "cell_type": "code",
      "metadata": {
        "colab": {
          "base_uri": "https://localhost:8080/"
        },
        "id": "ysYR8QWke9J8",
        "outputId": "9caf4e3f-a42f-4619-ac02-5344f7bd681e"
      },
      "source": [
        "twitter_df.select(\"text\", \"user\").show(5)"
      ],
      "execution_count": null,
      "outputs": [
        {
          "output_type": "stream",
          "text": [
            "+--------------------+--------------------+\n",
            "|                text|                user|\n",
            "+--------------------+--------------------+\n",
            "|What is God sayin...|          petodinice|\n",
            "|\"BREAKING: \"\"this...| but i took the t...|\n",
            "| #Coronavirus tes...|              cek422|\n",
            "| Get ready for ma...|        InfectiousDz|\n",
            "| The #coronavirus...|          vic_gibson|\n",
            "+--------------------+--------------------+\n",
            "only showing top 5 rows\n",
            "\n"
          ],
          "name": "stdout"
        }
      ]
    },
    {
      "cell_type": "code",
      "metadata": {
        "colab": {
          "base_uri": "https://localhost:8080/"
        },
        "id": "V7StJCr2e9Ls",
        "outputId": "361b6645-78e0-4507-beeb-309745751c58"
      },
      "source": [
        "twitter_df.rdd.map(lambda x: x.text.split(\" \")).take(5)"
      ],
      "execution_count": null,
      "outputs": [
        {
          "output_type": "execute_result",
          "data": {
            "text/plain": [
              "[['What', 'is', 'God', 'saying', 'to', 'us', 'about', '#coronavirus', '?'],\n",
              " ['\"BREAKING:', '\"\"this', 'is', 'disappointing'],\n",
              " ['',\n",
              "  '#Coronavirus',\n",
              "  'testing',\n",
              "  'must',\n",
              "  'be',\n",
              "  'made',\n",
              "  'free',\n",
              "  'to',\n",
              "  'the',\n",
              "  'public',\n",
              "  'if',\n",
              "  'we',\n",
              "  'are',\n",
              "  'going',\n",
              "  'to',\n",
              "  'understand',\n",
              "  'the',\n",
              "  'scope',\n",
              "  'of',\n",
              "  'this',\n",
              "  'crisis.',\n",
              "  'Anything',\n",
              "  'le…'],\n",
              " ['',\n",
              "  'Get',\n",
              "  'ready',\n",
              "  'for',\n",
              "  'mass',\n",
              "  'event',\n",
              "  'crowd',\n",
              "  'cancellations',\n",
              "  'across',\n",
              "  'the',\n",
              "  'World',\n",
              "  'starting',\n",
              "  'this',\n",
              "  'weekend:',\n",
              "  'cricket',\n",
              "  'in',\n",
              "  '#Australia',\n",
              "  'in',\n",
              "  'empty',\n",
              "  'st…'],\n",
              " ['',\n",
              "  'The',\n",
              "  '#coronavirus',\n",
              "  'pandemic',\n",
              "  'is',\n",
              "  'revealing',\n",
              "  'just',\n",
              "  'how',\n",
              "  'closely',\n",
              "  'we',\n",
              "  'are',\n",
              "  'all',\n",
              "  'bound',\n",
              "  'together...[A',\n",
              "  'thread]',\n",
              "  '']]"
            ]
          },
          "metadata": {
            "tags": []
          },
          "execution_count": 40
        }
      ]
    },
    {
      "cell_type": "code",
      "metadata": {
        "colab": {
          "base_uri": "https://localhost:8080/"
        },
        "id": "XCgb5b_ge9OW",
        "outputId": "017c956c-3bc8-42ec-8fa2-264d20a79e43"
      },
      "source": [
        "twitter_df.rdd.flatMap(lambda x: x.text.split(\" \")).take(100)"
      ],
      "execution_count": null,
      "outputs": [
        {
          "output_type": "execute_result",
          "data": {
            "text/plain": [
              "['What',\n",
              " 'is',\n",
              " 'God',\n",
              " 'saying',\n",
              " 'to',\n",
              " 'us',\n",
              " 'about',\n",
              " '#coronavirus',\n",
              " '?',\n",
              " '\"BREAKING:',\n",
              " '\"\"this',\n",
              " 'is',\n",
              " 'disappointing',\n",
              " '',\n",
              " '#Coronavirus',\n",
              " 'testing',\n",
              " 'must',\n",
              " 'be',\n",
              " 'made',\n",
              " 'free',\n",
              " 'to',\n",
              " 'the',\n",
              " 'public',\n",
              " 'if',\n",
              " 'we',\n",
              " 'are',\n",
              " 'going',\n",
              " 'to',\n",
              " 'understand',\n",
              " 'the',\n",
              " 'scope',\n",
              " 'of',\n",
              " 'this',\n",
              " 'crisis.',\n",
              " 'Anything',\n",
              " 'le…',\n",
              " '',\n",
              " 'Get',\n",
              " 'ready',\n",
              " 'for',\n",
              " 'mass',\n",
              " 'event',\n",
              " 'crowd',\n",
              " 'cancellations',\n",
              " 'across',\n",
              " 'the',\n",
              " 'World',\n",
              " 'starting',\n",
              " 'this',\n",
              " 'weekend:',\n",
              " 'cricket',\n",
              " 'in',\n",
              " '#Australia',\n",
              " 'in',\n",
              " 'empty',\n",
              " 'st…',\n",
              " '',\n",
              " 'The',\n",
              " '#coronavirus',\n",
              " 'pandemic',\n",
              " 'is',\n",
              " 'revealing',\n",
              " 'just',\n",
              " 'how',\n",
              " 'closely',\n",
              " 'we',\n",
              " 'are',\n",
              " 'all',\n",
              " 'bound',\n",
              " 'together...[A',\n",
              " 'thread]',\n",
              " '',\n",
              " '',\n",
              " 'COVID-19',\n",
              " 'update',\n",
              " 'as',\n",
              " 'of',\n",
              " 'this',\n",
              " 'morning:1.',\n",
              " 'Death',\n",
              " 'toll',\n",
              " 'in',\n",
              " 'Italy',\n",
              " 'passes',\n",
              " '1,0002.',\n",
              " \"Arsenal's\",\n",
              " 'head',\n",
              " 'coach',\n",
              " 'Arteta',\n",
              " 'tests',\n",
              " 'positive3.',\n",
              " 'US…',\n",
              " '',\n",
              " 'It’s',\n",
              " 'painful',\n",
              " 'to',\n",
              " 'say,',\n",
              " 'but',\n",
              " 'as',\n",
              " 'an']"
            ]
          },
          "metadata": {
            "tags": []
          },
          "execution_count": 42
        }
      ]
    },
    {
      "cell_type": "code",
      "metadata": {
        "colab": {
          "base_uri": "https://localhost:8080/",
          "height": 163
        },
        "id": "rJJqhxnqe9RB",
        "outputId": "739b2723-1413-42a8-f4fd-d60798580e61"
      },
      "source": [
        "corona_df.show()"
      ],
      "execution_count": null,
      "outputs": [
        {
          "output_type": "error",
          "ename": "NameError",
          "evalue": "ignored",
          "traceback": [
            "\u001b[0;31m---------------------------------------------------------------------------\u001b[0m",
            "\u001b[0;31mNameError\u001b[0m                                 Traceback (most recent call last)",
            "\u001b[0;32m<ipython-input-4-622e8f3e0ddc>\u001b[0m in \u001b[0;36m<module>\u001b[0;34m()\u001b[0m\n\u001b[0;32m----> 1\u001b[0;31m \u001b[0mcorona_df\u001b[0m\u001b[0;34m.\u001b[0m\u001b[0mshow\u001b[0m\u001b[0;34m(\u001b[0m\u001b[0;34m)\u001b[0m\u001b[0;34m\u001b[0m\u001b[0;34m\u001b[0m\u001b[0m\n\u001b[0m",
            "\u001b[0;31mNameError\u001b[0m: name 'corona_df' is not defined"
          ]
        }
      ]
    },
    {
      "cell_type": "code",
      "metadata": {
        "colab": {
          "base_uri": "https://localhost:8080/"
        },
        "id": "UA2RlL_Fe9U1",
        "outputId": "361cca7a-9901-49ce-c30a-9395e5fef26a"
      },
      "source": [
        "corona_df.filter(\"country='US'\").show(10)"
      ],
      "execution_count": null,
      "outputs": [
        {
          "output_type": "stream",
          "text": [
            "+---+----------------+-------+-------+---------+----------+---------+-----+---------+----------------+----------------+\n",
            "|_c0|           State|Country|    Lat|     Long|      Date|Confirmed|Death|Recovered|   state_cleaned|            City|\n",
            "+---+----------------+-------+-------+---------+----------+---------+-----+---------+----------------+----------------+\n",
            "| 98|      Washington|     US|47.4009|-121.4905|2020-01-22|        0|    0|        0|      Washington|      Washington|\n",
            "| 99|        New York|     US|42.1657| -74.9481|2020-01-22|        0|    0|        0|        New York|        New York|\n",
            "|100|      California|     US|36.1162|-119.6816|2020-01-22|        0|    0|        0|      California|      California|\n",
            "|101|   Massachusetts|     US|42.2302| -71.5301|2020-01-22|        0|    0|        0|   Massachusetts|   Massachusetts|\n",
            "|102|Diamond Princess|     US|35.4437|  139.638|2020-01-22|        0|    0|        0|Diamond Princess|Diamond Princess|\n",
            "|103|  Grand Princess|     US|37.6489|-122.6655|2020-01-22|        0|    0|        0|  Grand Princess|  Grand Princess|\n",
            "|104|         Georgia|     US|33.0406| -83.6431|2020-01-22|        0|    0|        0|         Georgia|         Georgia|\n",
            "|105|        Colorado|     US|39.0598|-105.3111|2020-01-22|        0|    0|        0|        Colorado|        Colorado|\n",
            "|106|         Florida|     US|27.7663| -81.6868|2020-01-22|        0|    0|        0|         Florida|         Florida|\n",
            "|107|      New Jersey|     US|40.2989|  -74.521|2020-01-22|        0|    0|        0|      New Jersey|      New Jersey|\n",
            "+---+----------------+-------+-------+---------+----------+---------+-----+---------+----------------+----------------+\n",
            "only showing top 10 rows\n",
            "\n"
          ],
          "name": "stdout"
        }
      ]
    },
    {
      "cell_type": "code",
      "metadata": {
        "colab": {
          "base_uri": "https://localhost:8080/"
        },
        "id": "vsmZJvaMkIW4",
        "outputId": "58bed9b9-0e83-4d69-f0ee-1298ea14f110"
      },
      "source": [
        "corona_df.filter(\"country='US'\").sort(col(\"Date\"),ascending=False).show(10)"
      ],
      "execution_count": null,
      "outputs": [
        {
          "output_type": "stream",
          "text": [
            "+-----+----------------+-------+------------------+---------+----------+---------+-----+---------+----------------+----------------+\n",
            "|  _c0|           State|Country|               Lat|     Long|      Date|Confirmed|Death|Recovered|   state_cleaned|            City|\n",
            "+-----+----------------+-------+------------------+---------+----------+---------+-----+---------+----------------+----------------+\n",
            "|27764|      Washington|     US|           47.4009|-121.4905|2020-03-20|     1524|   83|        0|      Washington|      Washington|\n",
            "|27774|          Oregon|     US|44.571999999999996|-122.0709|2020-03-20|      114|    3|        0|          Oregon|          Oregon|\n",
            "|27765|        New York|     US|           42.1657| -74.9481|2020-03-20|     8310|   42|        0|        New York|        New York|\n",
            "|27766|      California|     US|           36.1162|-119.6816|2020-03-20|     1177|   23|        0|      California|      California|\n",
            "|27767|   Massachusetts|     US|           42.2302| -71.5301|2020-03-20|      413|    1|        0|   Massachusetts|   Massachusetts|\n",
            "|27768|Diamond Princess|     US|           35.4437|  139.638|2020-03-20|       49|    0|        0|Diamond Princess|Diamond Princess|\n",
            "|27769|  Grand Princess|     US|           37.6489|-122.6655|2020-03-20|       23|    0|        0|  Grand Princess|  Grand Princess|\n",
            "|27770|         Georgia|     US|           33.0406| -83.6431|2020-03-20|      420|   13|        0|         Georgia|         Georgia|\n",
            "|27771|        Colorado|     US|           39.0598|-105.3111|2020-03-20|      363|    4|        0|        Colorado|        Colorado|\n",
            "|27772|         Florida|     US|           27.7663| -81.6868|2020-03-20|      563|   10|        0|         Florida|         Florida|\n",
            "+-----+----------------+-------+------------------+---------+----------+---------+-----+---------+----------------+----------------+\n",
            "only showing top 10 rows\n",
            "\n"
          ],
          "name": "stdout"
        }
      ]
    },
    {
      "cell_type": "code",
      "metadata": {
        "colab": {
          "base_uri": "https://localhost:8080/"
        },
        "id": "777gSKG3kIZY",
        "outputId": "735d84c6-f0f6-421a-9629-92577bea6f6d"
      },
      "source": [
        "corona_df.filter(\"country='US'\").orderBy(col(\"Date\"),ascending=False).show(10)"
      ],
      "execution_count": null,
      "outputs": [
        {
          "output_type": "stream",
          "text": [
            "+-----+----------------+-------+------------------+---------+----------+---------+-----+---------+----------------+----------------+\n",
            "|  _c0|           State|Country|               Lat|     Long|      Date|Confirmed|Death|Recovered|   state_cleaned|            City|\n",
            "+-----+----------------+-------+------------------+---------+----------+---------+-----+---------+----------------+----------------+\n",
            "|27764|      Washington|     US|           47.4009|-121.4905|2020-03-20|     1524|   83|        0|      Washington|      Washington|\n",
            "|27774|          Oregon|     US|44.571999999999996|-122.0709|2020-03-20|      114|    3|        0|          Oregon|          Oregon|\n",
            "|27765|        New York|     US|           42.1657| -74.9481|2020-03-20|     8310|   42|        0|        New York|        New York|\n",
            "|27766|      California|     US|           36.1162|-119.6816|2020-03-20|     1177|   23|        0|      California|      California|\n",
            "|27767|   Massachusetts|     US|           42.2302| -71.5301|2020-03-20|      413|    1|        0|   Massachusetts|   Massachusetts|\n",
            "|27768|Diamond Princess|     US|           35.4437|  139.638|2020-03-20|       49|    0|        0|Diamond Princess|Diamond Princess|\n",
            "|27769|  Grand Princess|     US|           37.6489|-122.6655|2020-03-20|       23|    0|        0|  Grand Princess|  Grand Princess|\n",
            "|27770|         Georgia|     US|           33.0406| -83.6431|2020-03-20|      420|   13|        0|         Georgia|         Georgia|\n",
            "|27771|        Colorado|     US|           39.0598|-105.3111|2020-03-20|      363|    4|        0|        Colorado|        Colorado|\n",
            "|27772|         Florida|     US|           27.7663| -81.6868|2020-03-20|      563|   10|        0|         Florida|         Florida|\n",
            "+-----+----------------+-------+------------------+---------+----------+---------+-----+---------+----------------+----------------+\n",
            "only showing top 10 rows\n",
            "\n"
          ],
          "name": "stdout"
        }
      ]
    },
    {
      "cell_type": "code",
      "metadata": {
        "colab": {
          "base_uri": "https://localhost:8080/"
        },
        "id": "wIpfSlxSkIdc",
        "outputId": "7404ccd7-6e65-42a9-f2b5-931f3ffcc0da"
      },
      "source": [
        "corona_df.filter(\"Country='US'\").sortWithinPartitions([col(\"Date\"),col(\"Confirmed\")], ascending=False).show(10)"
      ],
      "execution_count": null,
      "outputs": [
        {
          "output_type": "stream",
          "text": [
            "+-----+-------------+-------+-------+---------+----------+---------+-----+---------+-------------+-------------+\n",
            "|  _c0|        State|Country|    Lat|     Long|      Date|Confirmed|Death|Recovered|state_cleaned|         City|\n",
            "+-----+-------------+-------+-------+---------+----------+---------+-----+---------+-------------+-------------+\n",
            "|27765|     New York|     US|42.1657| -74.9481|2020-03-20|     8310|   42|        0|     New York|     New York|\n",
            "|27764|   Washington|     US|47.4009|-121.4905|2020-03-20|     1524|   83|        0|   Washington|   Washington|\n",
            "|27766|   California|     US|36.1162|-119.6816|2020-03-20|     1177|   23|        0|   California|   California|\n",
            "|27773|   New Jersey|     US|40.2989|  -74.521|2020-03-20|      890|   11|        0|   New Jersey|   New Jersey|\n",
            "|27776|     Illinois|     US|40.3495| -88.9861|2020-03-20|      585|    5|        0|     Illinois|     Illinois|\n",
            "|27772|      Florida|     US|27.7663| -81.6868|2020-03-20|      563|   10|        0|      Florida|      Florida|\n",
            "|27812|     Michigan|     US|43.3266| -84.5361|2020-03-20|      552|    3|        0|     Michigan|     Michigan|\n",
            "|27804|    Louisiana|     US|31.1695| -91.8678|2020-03-20|      538|   14|        0|    Louisiana|    Louisiana|\n",
            "|27770|      Georgia|     US|33.0406| -83.6431|2020-03-20|      420|   13|        0|      Georgia|      Georgia|\n",
            "|27767|Massachusetts|     US|42.2302| -71.5301|2020-03-20|      413|    1|        0|Massachusetts|Massachusetts|\n",
            "+-----+-------------+-------+-------+---------+----------+---------+-----+---------+-------------+-------------+\n",
            "only showing top 10 rows\n",
            "\n"
          ],
          "name": "stdout"
        }
      ]
    },
    {
      "cell_type": "code",
      "metadata": {
        "colab": {
          "base_uri": "https://localhost:8080/"
        },
        "id": "5pyWZtQekIfZ",
        "outputId": "bd94dc61-a94a-4555-e00e-f9f6254fc969"
      },
      "source": [
        "corona_df.describe().show(5)"
      ],
      "execution_count": null,
      "outputs": [
        {
          "output_type": "stream",
          "text": [
            "+-------+-----------------+---------+-----------+------------------+-------------------+----------+------------------+------------------+------------------+-------------+-----------+\n",
            "|summary|              _c0|    State|    Country|               Lat|               Long|      Date|         Confirmed|             Death|         Recovered|state_cleaned|       City|\n",
            "+-------+-----------------+---------+-----------+------------------+-------------------+----------+------------------+------------------+------------------+-------------+-----------+\n",
            "|  count|            27075|    18297|      27075|             27075|              27075|     27075|             26884|             26884|             26884|        27075|      14193|\n",
            "|   mean|          13537.0|     null|       null|31.287152842104447|-35.511753263158006|      null|150.31249070078857|  4.96436542181223| 56.59284332688588|         null|       null|\n",
            "| stddev|7816.023605389124|     null|       null|19.032233293159134|  79.82706281478735|      null|2462.0157547275367|102.60625186423131|1281.7943850566444|         null|       null|\n",
            "|    min|                0|Adams, IN|Afghanistan|          -41.4545|          -157.8584|2020-01-22|               0.0|               0.0|               0.0|    Abu Dhabi|      Adams|\n",
            "|    max|            27074| Zhejiang|     Zambia|           71.7069|            174.886|2020-03-18|           67800.0|            3122.0|           56927.0|     erdészet|Yolo County|\n",
            "+-------+-----------------+---------+-----------+------------------+-------------------+----------+------------------+------------------+------------------+-------------+-----------+\n",
            "\n"
          ],
          "name": "stdout"
        }
      ]
    },
    {
      "cell_type": "code",
      "metadata": {
        "colab": {
          "base_uri": "https://localhost:8080/"
        },
        "id": "pgZGnDAjqh89",
        "outputId": "ea95e9b5-4f6c-48f6-ca27-f2a54cb790fb"
      },
      "source": [
        "corona_df.printSchema()"
      ],
      "execution_count": null,
      "outputs": [
        {
          "output_type": "stream",
          "text": [
            "root\n",
            " |-- _c0: integer (nullable = true)\n",
            " |-- State: string (nullable = true)\n",
            " |-- Country: string (nullable = true)\n",
            " |-- Lat: double (nullable = true)\n",
            " |-- Long: double (nullable = true)\n",
            " |-- Date: string (nullable = true)\n",
            " |-- Confirmed: integer (nullable = true)\n",
            " |-- Death: integer (nullable = true)\n",
            " |-- Recovered: integer (nullable = true)\n",
            " |-- state_cleaned: string (nullable = true)\n",
            " |-- City: string (nullable = true)\n",
            "\n"
          ],
          "name": "stdout"
        }
      ]
    },
    {
      "cell_type": "code",
      "metadata": {
        "id": "sTBR87jxqh_8",
        "colab": {
          "base_uri": "https://localhost:8080/"
        },
        "outputId": "dcaa836b-5271-4a1d-ebed-97ce6c75c3d9"
      },
      "source": [
        "corona_df.filter('Confirmed>10000').approxQuantile('Confirmed',[0.25,0.5,0.75,0.9,0.95], 0.9)"
      ],
      "execution_count": null,
      "outputs": [
        {
          "output_type": "execute_result",
          "data": {
            "text/plain": [
              "[10075.0, 10075.0, 10075.0, 10075.0, 67800.0]"
            ]
          },
          "metadata": {
            "tags": []
          },
          "execution_count": 59
        }
      ]
    },
    {
      "cell_type": "code",
      "metadata": {
        "id": "5sDwHcCDqiCH",
        "colab": {
          "base_uri": "https://localhost:8080/"
        },
        "outputId": "fa37dfc2-861f-4b05-c416-d0ebbe9dd730"
      },
      "source": [
        "corona_df.agg({\"Date\": \"max\"}).collect()"
      ],
      "execution_count": null,
      "outputs": [
        {
          "output_type": "execute_result",
          "data": {
            "text/plain": [
              "[Row(max(Date)='2020-03-18')]"
            ]
          },
          "metadata": {
            "tags": []
          },
          "execution_count": 60
        }
      ]
    },
    {
      "cell_type": "code",
      "metadata": {
        "id": "e0jpmwmQqiEt",
        "colab": {
          "base_uri": "https://localhost:8080/"
        },
        "outputId": "afacd914-4caa-405e-f884-180d9e77719c"
      },
      "source": [
        "corona_df.agg({\"Date\":\"max\", \"Confirmed\":\"max\"}).collect()"
      ],
      "execution_count": null,
      "outputs": [
        {
          "output_type": "execute_result",
          "data": {
            "text/plain": [
              "[Row(max(Confirmed)=67800.0, max(Date)='2020-03-18')]"
            ]
          },
          "metadata": {
            "tags": []
          },
          "execution_count": 61
        }
      ]
    },
    {
      "cell_type": "code",
      "metadata": {
        "id": "DNYERfGQqiHQ"
      },
      "source": [
        "max_date = corona_df.agg({\"Date\":\"max\"})\n"
      ],
      "execution_count": null,
      "outputs": []
    },
    {
      "cell_type": "code",
      "metadata": {
        "id": "hvIpbpDeqiJ2",
        "colab": {
          "base_uri": "https://localhost:8080/"
        },
        "outputId": "83e683ac-a179-445d-b27c-aa2f50e973d9"
      },
      "source": [
        "max_date.show()"
      ],
      "execution_count": null,
      "outputs": [
        {
          "output_type": "stream",
          "text": [
            "+----------+\n",
            "| max(Date)|\n",
            "+----------+\n",
            "|2020-03-18|\n",
            "+----------+\n",
            "\n"
          ],
          "name": "stdout"
        }
      ]
    },
    {
      "cell_type": "code",
      "metadata": {
        "colab": {
          "base_uri": "https://localhost:8080/"
        },
        "id": "H0XwcCakuXJv",
        "outputId": "bf391b5d-da68-493f-d5c7-518474e2b2be"
      },
      "source": [
        "corona_df.groupBy(\"Country\", \"State_Cleaned\").count().show()"
      ],
      "execution_count": null,
      "outputs": [
        {
          "output_type": "stream",
          "text": [
            "+--------------+--------------------+-----+\n",
            "|       Country|       State_Cleaned|count|\n",
            "+--------------+--------------------+-----+\n",
            "|      Cameroon|             Yaounde|   57|\n",
            "|        Cyprus|             Nicosia|   57|\n",
            "|            US|            Michigan|  171|\n",
            "|         China|             Qinghai|   57|\n",
            "|      Portugal|              Lisbon|   57|\n",
            "|            US|            Colorado|  570|\n",
            "|United Kingdom|      Cayman Islands|   57|\n",
            "|            US|            Missouri|  114|\n",
            "|         China|              Hainan|   57|\n",
            "|     Australia|Australian Capita...|   57|\n",
            "|            US|                Guam|   57|\n",
            "|        France|             Reunion|   57|\n",
            "|      Colombia|        Cundinamarca|   57|\n",
            "|          Cuba|              Havana|   57|\n",
            "|     Mauritius|          Port Louis|   57|\n",
            "|       Ukraine|                Kiev|   57|\n",
            "|   Switzerland|                Bern|   57|\n",
            "|         Benin|          Porto-Novo|   57|\n",
            "|         Malta|               Mgarr|   57|\n",
            "|   The Bahamas|         The Bahamas|   57|\n",
            "+--------------+--------------------+-----+\n",
            "only showing top 20 rows\n",
            "\n"
          ],
          "name": "stdout"
        }
      ]
    },
    {
      "cell_type": "code",
      "metadata": {
        "id": "Fn_oPfe9qiMN",
        "colab": {
          "base_uri": "https://localhost:8080/"
        },
        "outputId": "830689c5-826e-4511-9d04-c7aed46ca678"
      },
      "source": [
        "import pyspark.sql.functions as F\n",
        "corona_df.groupBy(\"Country\", \"State_Cleaned\").agg(F.max(\"Date\")).show()"
      ],
      "execution_count": null,
      "outputs": [
        {
          "output_type": "stream",
          "text": [
            "+--------------+--------------------+----------+\n",
            "|       Country|       State_Cleaned| max(Date)|\n",
            "+--------------+--------------------+----------+\n",
            "|      Cameroon|             Yaounde|2020-03-18|\n",
            "|         China|             Qinghai|2020-03-18|\n",
            "|        Cyprus|             Nicosia|2020-03-18|\n",
            "|            US|            Michigan|2020-03-18|\n",
            "|      Portugal|              Lisbon|2020-03-18|\n",
            "|            US|            Colorado|2020-03-18|\n",
            "|United Kingdom|      Cayman Islands|2020-03-18|\n",
            "|         China|              Hainan|2020-03-18|\n",
            "|            US|            Missouri|2020-03-18|\n",
            "|     Australia|Australian Capita...|2020-03-18|\n",
            "|            US|                Guam|2020-03-18|\n",
            "|        France|             Reunion|2020-03-18|\n",
            "|      Colombia|        Cundinamarca|2020-03-18|\n",
            "|          Cuba|              Havana|2020-03-18|\n",
            "|     Mauritius|          Port Louis|2020-03-18|\n",
            "|       Ukraine|                Kiev|2020-03-18|\n",
            "|         Benin|          Porto-Novo|2020-03-18|\n",
            "|   Switzerland|                Bern|2020-03-18|\n",
            "|         Malta|               Mgarr|2020-03-18|\n",
            "|   The Bahamas|         The Bahamas|2020-03-18|\n",
            "+--------------+--------------------+----------+\n",
            "only showing top 20 rows\n",
            "\n"
          ],
          "name": "stdout"
        }
      ]
    },
    {
      "cell_type": "code",
      "metadata": {
        "id": "7sKKg7mUqiP3",
        "colab": {
          "base_uri": "https://localhost:8080/"
        },
        "outputId": "f66e6f0c-9315-4b80-c174-ce59f320467e"
      },
      "source": [
        "corona_df.join(corona_df.groupBy(\"Country\",\"State_cleaned\").agg(F.max(\"Date\").alias(\"Date\")),on=['Country', 'State_cleaned', 'Date'],how=\"inner\").show()"
      ],
      "execution_count": null,
      "outputs": [
        {
          "output_type": "stream",
          "text": [
            "+--------------------+--------------------+----------+-----+----------------+--------+---------+---------+------+---------+----+\n",
            "|             Country|       state_cleaned|      Date|  _c0|           State|     Lat|     Long|Confirmed| Death|Recovered|City|\n",
            "+--------------------+--------------------+----------+-----+----------------+--------+---------+---------+------+---------+----+\n",
            "|            Thailand|             Bangkok|2020-03-18|26600|            null|    15.0|    101.0|    212.0|   1.0|     42.0|null|\n",
            "|               Japan|             Hiraide|2020-03-18|26601|            null|    36.0|    138.0|    889.0|  29.0|    144.0|null|\n",
            "|           Singapore|           Singapore|2020-03-18|26602|            null|  1.2833| 103.8333|    313.0|   0.0|    114.0|null|\n",
            "|               Nepal|           Kathmandu|2020-03-18|26603|            null| 28.1667|    84.25|      1.0|   0.0|      1.0|null|\n",
            "|            Malaysia|             Sarawak|2020-03-18|26604|            null|     2.5|    112.5|    790.0|   2.0|     60.0|null|\n",
            "|              Canada|    British Columbia|2020-03-18|26605|British Columbia| 49.2827|-123.1207|    186.0|   7.0|      4.0|null|\n",
            "|           Australia|     New South Wales|2020-03-18|26606| New South Wales|-33.8688| 151.2093|    267.0|   5.0|      4.0|null|\n",
            "|           Australia|            Victoria|2020-03-18|26607|        Victoria|-37.8136| 144.9631|    121.0|   0.0|      8.0|null|\n",
            "|           Australia|          Queensland|2020-03-18|26608|      Queensland|-28.0167|    153.4|     94.0|   0.0|      8.0|null|\n",
            "|            Cambodia|          Phnom Penh|2020-03-18|26609|            null|   11.55| 104.9167|     35.0|   0.0|      1.0|null|\n",
            "|           Sri Lanka|Sri Jayawardenapu...|2020-03-18|26610|            null|     7.0|     81.0|     51.0|   0.0|      1.0|null|\n",
            "|             Germany|              Berlin|2020-03-18|26611|            null|    51.0|      9.0|  12327.0|  28.0|    105.0|null|\n",
            "|             Finland|            Helsinki|2020-03-18|26612|            null|    64.0|     26.0|    336.0|   0.0|     10.0|null|\n",
            "|United Arab Emirates|           Abu Dhabi|2020-03-18|26613|            null|    24.0|     54.0|    113.0|   0.0|     26.0|null|\n",
            "|         Philippines|              Manila|2020-03-18|26614|            null|    13.0|    122.0|    202.0|  19.0|      5.0|null|\n",
            "|               India|           New Delhi|2020-03-18|26615|            null|    21.0|     78.0|    156.0|   3.0|     14.0|null|\n",
            "|               Italy|                Rome|2020-03-18|26616|            null|    43.0|     12.0|  35713.0|2978.0|   4025.0|null|\n",
            "|              Sweden|           Stockholm|2020-03-18|26617|            null|    63.0|     16.0|   1279.0|  10.0|      1.0|null|\n",
            "|               Spain|              Toledo|2020-03-18|26618|            null|    40.0|     -4.0|  13910.0| 623.0|   1081.0|null|\n",
            "|           Australia|     South Australia|2020-03-18|26619| South Australia|-34.9285| 138.6007|     37.0|   0.0|      3.0|null|\n",
            "+--------------------+--------------------+----------+-----+----------------+--------+---------+---------+------+---------+----+\n",
            "only showing top 20 rows\n",
            "\n"
          ],
          "name": "stdout"
        }
      ]
    },
    {
      "cell_type": "code",
      "metadata": {
        "id": "iM_eR7BnkIho",
        "colab": {
          "base_uri": "https://localhost:8080/"
        },
        "outputId": "cf7faa6b-aa3c-4c45-e6b2-f0ad7b941ae7"
      },
      "source": [
        "corona_df.join(corona_df.groupBy(\"Country\",\"State_cleaned\").agg(F.max(\"Date\").alias(\"Date\")),on=['Country', 'State_cleaned', 'Date'],how=\"inner\").sort(\"Confirmed\", ascending = False).show(10)"
      ],
      "execution_count": null,
      "outputs": [
        {
          "output_type": "stream",
          "text": [
            "+--------------+----------------+----------+-----+--------------+-------+-------------------+---------+------+---------+--------+\n",
            "|       Country|   state_cleaned|      Date|  _c0|         State|    Lat|               Long|Confirmed| Death|Recovered|    City|\n",
            "+--------------+----------------+----------+-----+--------------+-------+-------------------+---------+------+---------+--------+\n",
            "|         China|           Hubei|2020-03-18|26754|         Hubei|30.9756|           112.2707|  67800.0|3122.0|  56927.0|    null|\n",
            "|         Italy|            Rome|2020-03-18|26616|          null|   43.0|               12.0|  35713.0|2978.0|   4025.0|    null|\n",
            "|          Iran|          Tehran|2020-03-18|26755|          null|   32.0|               53.0|  17361.0|1135.0|   5389.0|    null|\n",
            "|         Spain|          Toledo|2020-03-18|26618|          null|   40.0|               -4.0|  13910.0| 623.0|   1081.0|    null|\n",
            "|       Germany|          Berlin|2020-03-18|26611|          null|   51.0|                9.0|  12327.0|  28.0|    105.0|    null|\n",
            "|        France|          France|2020-03-18|26757|        France|46.2276|             2.2137|   9043.0| 148.0|     12.0|    null|\n",
            "|  Korea, South|Gyeongsangbuk-do|2020-03-18|26756|          null|   36.0|              128.0|   8413.0|  84.0|   1540.0|    null|\n",
            "|   Switzerland|            Bern|2020-03-18|26631|          null|46.8182|             8.2275|   3028.0|  28.0|     15.0|    null|\n",
            "|United Kingdom|  United Kingdom|2020-03-18|27003|United Kingdom|55.3781|-3.4360000000000004|   2626.0|  71.0|     65.0|    null|\n",
            "|            US|        New York|2020-03-18|26699|      New York|42.1657|           -74.9481|   2495.0|  16.0|      0.0|New York|\n",
            "+--------------+----------------+----------+-----+--------------+-------+-------------------+---------+------+---------+--------+\n",
            "only showing top 10 rows\n",
            "\n"
          ],
          "name": "stdout"
        }
      ]
    },
    {
      "cell_type": "code",
      "metadata": {
        "colab": {
          "base_uri": "https://localhost:8080/"
        },
        "id": "RXkfZJng0cwn",
        "outputId": "43357138-95cf-442e-e01d-f4d2e08c5e7e"
      },
      "source": [
        "from pyspark.sql.functions import row_number\n",
        "from pyspark.sql.window import Window\n",
        "\n",
        "ws = Window().partitionBy(\"Country\", \"State_cleaned\").orderBy(col(\"Date\").desc())\n",
        "\n",
        "corona_df.withColumn(\"row_num\", row_number().over(ws)).show()"
      ],
      "execution_count": null,
      "outputs": [
        {
          "output_type": "stream",
          "text": [
            "+-----+-----+--------+-----+-------+----------+---------+-----+---------+-------------+----+-------+\n",
            "|  _c0|State| Country|  Lat|   Long|      Date|Confirmed|Death|Recovered|state_cleaned|City|row_num|\n",
            "+-----+-----+--------+-----+-------+----------+---------+-----+---------+-------------+----+-------+\n",
            "|26679| null|Cameroon|3.848|11.5021|2020-03-18|     10.0|  0.0|      0.0|      Yaounde|null|      1|\n",
            "|26204| null|Cameroon|3.848|11.5021|2020-03-17|     10.0|  0.0|      0.0|      Yaounde|null|      2|\n",
            "|25729| null|Cameroon|3.848|11.5021|2020-03-16|      4.0|  0.0|      0.0|      Yaounde|null|      3|\n",
            "|25254| null|Cameroon|3.848|11.5021|2020-03-15|      2.0|  0.0|      0.0|      Yaounde|null|      4|\n",
            "|24779| null|Cameroon|3.848|11.5021|2020-03-14|      2.0|  0.0|      0.0|      Yaounde|null|      5|\n",
            "|24304| null|Cameroon|3.848|11.5021|2020-03-13|      2.0|  0.0|      0.0|      Yaounde|null|      6|\n",
            "|23829| null|Cameroon|3.848|11.5021|2020-03-12|      2.0|  0.0|      0.0|      Yaounde|null|      7|\n",
            "|23354| null|Cameroon|3.848|11.5021|2020-03-11|      2.0|  0.0|      0.0|      Yaounde|null|      8|\n",
            "|22879| null|Cameroon|3.848|11.5021|2020-03-10|      2.0|  0.0|      0.0|      Yaounde|null|      9|\n",
            "|22404| null|Cameroon|3.848|11.5021|2020-03-09|      2.0|  0.0|      0.0|      Yaounde|null|     10|\n",
            "|21929| null|Cameroon|3.848|11.5021|2020-03-08|      2.0|  0.0|      0.0|      Yaounde|null|     11|\n",
            "|21454| null|Cameroon|3.848|11.5021|2020-03-07|      1.0|  0.0|      0.0|      Yaounde|null|     12|\n",
            "|20979| null|Cameroon|3.848|11.5021|2020-03-06|      1.0|  0.0|      0.0|      Yaounde|null|     13|\n",
            "|20504| null|Cameroon|3.848|11.5021|2020-03-05|      0.0|  0.0|      0.0|      Yaounde|null|     14|\n",
            "|20029| null|Cameroon|3.848|11.5021|2020-03-04|      0.0|  0.0|      0.0|      Yaounde|null|     15|\n",
            "|19554| null|Cameroon|3.848|11.5021|2020-03-03|      0.0|  0.0|      0.0|      Yaounde|null|     16|\n",
            "|19079| null|Cameroon|3.848|11.5021|2020-03-02|      0.0|  0.0|      0.0|      Yaounde|null|     17|\n",
            "|18604| null|Cameroon|3.848|11.5021|2020-03-01|      0.0|  0.0|      0.0|      Yaounde|null|     18|\n",
            "|18129| null|Cameroon|3.848|11.5021|2020-02-29|      0.0|  0.0|      0.0|      Yaounde|null|     19|\n",
            "|17654| null|Cameroon|3.848|11.5021|2020-02-28|      0.0|  0.0|      0.0|      Yaounde|null|     20|\n",
            "+-----+-----+--------+-----+-------+----------+---------+-----+---------+-------------+----+-------+\n",
            "only showing top 20 rows\n",
            "\n"
          ],
          "name": "stdout"
        }
      ]
    },
    {
      "cell_type": "code",
      "metadata": {
        "colab": {
          "base_uri": "https://localhost:8080/"
        },
        "id": "q3h3zvh90c0h",
        "outputId": "33271833-bf4f-4421-eb68-0f556c88adc5"
      },
      "source": [
        "corona_df.groupBy(\"Country\").pivot(\"Date\").agg(F.sum(\"Confirmed\")).show()"
      ],
      "execution_count": null,
      "outputs": [
        {
          "output_type": "stream",
          "text": [
            "+-----------+----------+----------+----------+----------+----------+----------+----------+----------+----------+----------+----------+----------+----------+----------+----------+----------+----------+----------+----------+----------+----------+----------+----------+----------+----------+----------+----------+----------+----------+----------+----------+----------+----------+----------+----------+----------+----------+----------+----------+----------+----------+----------+----------+----------+----------+----------+----------+----------+----------+----------+----------+----------+----------+----------+----------+----------+----------+\n",
            "|    Country|2020-01-22|2020-01-23|2020-01-24|2020-01-25|2020-01-26|2020-01-27|2020-01-28|2020-01-29|2020-01-30|2020-01-31|2020-02-01|2020-02-02|2020-02-03|2020-02-04|2020-02-05|2020-02-06|2020-02-07|2020-02-08|2020-02-09|2020-02-10|2020-02-11|2020-02-12|2020-02-13|2020-02-14|2020-02-15|2020-02-16|2020-02-17|2020-02-18|2020-02-19|2020-02-20|2020-02-21|2020-02-22|2020-02-23|2020-02-24|2020-02-25|2020-02-26|2020-02-27|2020-02-28|2020-02-29|2020-03-01|2020-03-02|2020-03-03|2020-03-04|2020-03-05|2020-03-06|2020-03-07|2020-03-08|2020-03-09|2020-03-10|2020-03-11|2020-03-12|2020-03-13|2020-03-14|2020-03-15|2020-03-16|2020-03-17|2020-03-18|\n",
            "+-----------+----------+----------+----------+----------+----------+----------+----------+----------+----------+----------+----------+----------+----------+----------+----------+----------+----------+----------+----------+----------+----------+----------+----------+----------+----------+----------+----------+----------+----------+----------+----------+----------+----------+----------+----------+----------+----------+----------+----------+----------+----------+----------+----------+----------+----------+----------+----------+----------+----------+----------+----------+----------+----------+----------+----------+----------+----------+\n",
            "|     Russia|       0.0|       0.0|       0.0|       0.0|       0.0|       0.0|       0.0|       0.0|       0.0|       2.0|       2.0|       2.0|       2.0|       2.0|       2.0|       2.0|       2.0|       2.0|       2.0|       2.0|       2.0|       2.0|       2.0|       2.0|       2.0|       2.0|       2.0|       2.0|       2.0|       2.0|       2.0|       2.0|       2.0|       2.0|       2.0|       2.0|       2.0|       2.0|       2.0|       2.0|       3.0|       3.0|       3.0|       4.0|      13.0|      13.0|      17.0|      17.0|      20.0|      20.0|      28.0|      45.0|      59.0|      63.0|      90.0|     114.0|     147.0|\n",
            "|   Paraguay|       0.0|       0.0|       0.0|       0.0|       0.0|       0.0|       0.0|       0.0|       0.0|       0.0|       0.0|       0.0|       0.0|       0.0|       0.0|       0.0|       0.0|       0.0|       0.0|       0.0|       0.0|       0.0|       0.0|       0.0|       0.0|       0.0|       0.0|       0.0|       0.0|       0.0|       0.0|       0.0|       0.0|       0.0|       0.0|       0.0|       0.0|       0.0|       0.0|       0.0|       0.0|       0.0|       0.0|       0.0|       0.0|       0.0|       1.0|       1.0|       1.0|       5.0|       5.0|       6.0|       6.0|       6.0|       8.0|       9.0|      11.0|\n",
            "|    Senegal|       0.0|       0.0|       0.0|       0.0|       0.0|       0.0|       0.0|       0.0|       0.0|       0.0|       0.0|       0.0|       0.0|       0.0|       0.0|       0.0|       0.0|       0.0|       0.0|       0.0|       0.0|       0.0|       0.0|       0.0|       0.0|       0.0|       0.0|       0.0|       0.0|       0.0|       0.0|       0.0|       0.0|       0.0|       0.0|       0.0|       0.0|       0.0|       0.0|       0.0|       1.0|       2.0|       4.0|       4.0|       4.0|       4.0|       4.0|       4.0|       4.0|       4.0|       4.0|      10.0|      10.0|      24.0|      24.0|      26.0|      31.0|\n",
            "|     Sweden|       0.0|       0.0|       0.0|       0.0|       0.0|       0.0|       0.0|       0.0|       0.0|       1.0|       1.0|       1.0|       1.0|       1.0|       1.0|       1.0|       1.0|       1.0|       1.0|       1.0|       1.0|       1.0|       1.0|       1.0|       1.0|       1.0|       1.0|       1.0|       1.0|       1.0|       1.0|       1.0|       1.0|       1.0|       1.0|       2.0|       7.0|       7.0|      12.0|      14.0|      15.0|      21.0|      35.0|      94.0|     101.0|     161.0|     203.0|     248.0|     355.0|     500.0|     599.0|     814.0|     961.0|    1022.0|    1103.0|    1190.0|    1279.0|\n",
            "|     Guyana|       0.0|       0.0|       0.0|       0.0|       0.0|       0.0|       0.0|       0.0|       0.0|       0.0|       0.0|       0.0|       0.0|       0.0|       0.0|       0.0|       0.0|       0.0|       0.0|       0.0|       0.0|       0.0|       0.0|       0.0|       0.0|       0.0|       0.0|       0.0|       0.0|       0.0|       0.0|       0.0|       0.0|       0.0|       0.0|       0.0|       0.0|       0.0|       0.0|       0.0|       0.0|       0.0|       0.0|       0.0|       0.0|       0.0|       0.0|       0.0|       0.0|       0.0|       1.0|       1.0|       1.0|       4.0|       4.0|       7.0|       7.0|\n",
            "|     Jersey|       0.0|       0.0|       0.0|       0.0|       0.0|       0.0|       0.0|       0.0|       0.0|       0.0|       0.0|       0.0|       0.0|       0.0|       0.0|       0.0|       0.0|       0.0|       0.0|       0.0|       0.0|       0.0|       0.0|       0.0|       0.0|       0.0|       0.0|       0.0|       0.0|       0.0|       0.0|       0.0|       0.0|       0.0|       0.0|       0.0|       0.0|       0.0|       0.0|       0.0|       0.0|       0.0|       0.0|       0.0|       0.0|       0.0|       0.0|       0.0|       0.0|       0.0|       0.0|       0.0|       2.0|       2.0|       2.0|       2.0|       0.0|\n",
            "|Philippines|       0.0|       0.0|       0.0|       0.0|       0.0|       0.0|       0.0|       0.0|       1.0|       1.0|       1.0|       2.0|       2.0|       2.0|       2.0|       2.0|       3.0|       3.0|       3.0|       3.0|       3.0|       3.0|       3.0|       3.0|       3.0|       3.0|       3.0|       3.0|       3.0|       3.0|       3.0|       3.0|       3.0|       3.0|       3.0|       3.0|       3.0|       3.0|       3.0|       3.0|       3.0|       3.0|       3.0|       3.0|       5.0|       6.0|      10.0|      20.0|      33.0|      49.0|      52.0|      64.0|     111.0|     140.0|     142.0|     187.0|     202.0|\n",
            "|   Djibouti|       0.0|       0.0|       0.0|       0.0|       0.0|       0.0|       0.0|       0.0|       0.0|       0.0|       0.0|       0.0|       0.0|       0.0|       0.0|       0.0|       0.0|       0.0|       0.0|       0.0|       0.0|       0.0|       0.0|       0.0|       0.0|       0.0|       0.0|       0.0|       0.0|       0.0|       0.0|       0.0|       0.0|       0.0|       0.0|       0.0|       0.0|       0.0|       0.0|       0.0|       0.0|       0.0|       0.0|       0.0|       0.0|       0.0|       0.0|       0.0|       0.0|       0.0|       0.0|       0.0|       0.0|       0.0|       0.0|       0.0|       1.0|\n",
            "|  Singapore|       0.0|       1.0|       3.0|       3.0|       4.0|       5.0|       7.0|       7.0|      10.0|      13.0|      16.0|      18.0|      18.0|      24.0|      28.0|      28.0|      30.0|      33.0|      40.0|      45.0|      47.0|      50.0|      58.0|      67.0|      72.0|      75.0|      77.0|      81.0|      84.0|      84.0|      85.0|      85.0|      89.0|      89.0|      91.0|      93.0|      93.0|      93.0|     102.0|     106.0|     108.0|     110.0|     110.0|     117.0|     130.0|     138.0|     150.0|     150.0|     160.0|     178.0|     178.0|     200.0|     212.0|     226.0|     243.0|     266.0|     313.0|\n",
            "|   Malaysia|       0.0|       0.0|       0.0|       3.0|       4.0|       4.0|       4.0|       7.0|       8.0|       8.0|       8.0|       8.0|       8.0|      10.0|      12.0|      12.0|      12.0|      16.0|      16.0|      18.0|      18.0|      18.0|      19.0|      19.0|      22.0|      22.0|      22.0|      22.0|      22.0|      22.0|      22.0|      22.0|      22.0|      22.0|      22.0|      22.0|      23.0|      23.0|      25.0|      29.0|      29.0|      36.0|      50.0|      50.0|      83.0|      93.0|      99.0|     117.0|     129.0|     149.0|     149.0|     197.0|     238.0|     428.0|     566.0|     673.0|     790.0|\n",
            "|     Turkey|       0.0|       0.0|       0.0|       0.0|       0.0|       0.0|       0.0|       0.0|       0.0|       0.0|       0.0|       0.0|       0.0|       0.0|       0.0|       0.0|       0.0|       0.0|       0.0|       0.0|       0.0|       0.0|       0.0|       0.0|       0.0|       0.0|       0.0|       0.0|       0.0|       0.0|       0.0|       0.0|       0.0|       0.0|       0.0|       0.0|       0.0|       0.0|       0.0|       0.0|       0.0|       0.0|       0.0|       0.0|       0.0|       0.0|       0.0|       0.0|       0.0|       1.0|       1.0|       5.0|       5.0|       6.0|      18.0|      47.0|      98.0|\n",
            "|       Iraq|       0.0|       0.0|       0.0|       0.0|       0.0|       0.0|       0.0|       0.0|       0.0|       0.0|       0.0|       0.0|       0.0|       0.0|       0.0|       0.0|       0.0|       0.0|       0.0|       0.0|       0.0|       0.0|       0.0|       0.0|       0.0|       0.0|       0.0|       0.0|       0.0|       0.0|       0.0|       0.0|       0.0|       1.0|       1.0|       5.0|       7.0|       7.0|      13.0|      19.0|      26.0|      32.0|      35.0|      35.0|      40.0|      54.0|      60.0|      60.0|      71.0|      71.0|      71.0|     101.0|     110.0|     116.0|     124.0|     154.0|     164.0|\n",
            "|    Germany|       0.0|       0.0|       0.0|       0.0|       0.0|       1.0|       4.0|       4.0|       4.0|       5.0|       8.0|      10.0|      12.0|      12.0|      12.0|      12.0|      13.0|      13.0|      14.0|      14.0|      16.0|      16.0|      16.0|      16.0|      16.0|      16.0|      16.0|      16.0|      16.0|      16.0|      16.0|      16.0|      16.0|      16.0|      17.0|      27.0|      46.0|      48.0|      79.0|     130.0|     159.0|     196.0|     262.0|     482.0|     670.0|     799.0|    1040.0|    1176.0|    1457.0|    1908.0|    2078.0|    3675.0|    4585.0|    5795.0|    7272.0|    9257.0|   12327.0|\n",
            "|   Cambodia|       0.0|       0.0|       0.0|       0.0|       0.0|       1.0|       1.0|       1.0|       1.0|       1.0|       1.0|       1.0|       1.0|       1.0|       1.0|       1.0|       1.0|       1.0|       1.0|       1.0|       1.0|       1.0|       1.0|       1.0|       1.0|       1.0|       1.0|       1.0|       1.0|       1.0|       1.0|       1.0|       1.0|       1.0|       1.0|       1.0|       1.0|       1.0|       1.0|       1.0|       1.0|       1.0|       1.0|       1.0|       1.0|       1.0|       2.0|       2.0|       2.0|       3.0|       3.0|       5.0|       7.0|       7.0|       7.0|      33.0|      35.0|\n",
            "|Afghanistan|       0.0|       0.0|       0.0|       0.0|       0.0|       0.0|       0.0|       0.0|       0.0|       0.0|       0.0|       0.0|       0.0|       0.0|       0.0|       0.0|       0.0|       0.0|       0.0|       0.0|       0.0|       0.0|       0.0|       0.0|       0.0|       0.0|       0.0|       0.0|       0.0|       0.0|       0.0|       0.0|       0.0|       1.0|       1.0|       1.0|       1.0|       1.0|       1.0|       1.0|       1.0|       1.0|       1.0|       1.0|       1.0|       1.0|       4.0|       4.0|       5.0|       7.0|       7.0|       7.0|      11.0|      16.0|      21.0|      22.0|      22.0|\n",
            "|     Jordan|       0.0|       0.0|       0.0|       0.0|       0.0|       0.0|       0.0|       0.0|       0.0|       0.0|       0.0|       0.0|       0.0|       0.0|       0.0|       0.0|       0.0|       0.0|       0.0|       0.0|       0.0|       0.0|       0.0|       0.0|       0.0|       0.0|       0.0|       0.0|       0.0|       0.0|       0.0|       0.0|       0.0|       0.0|       0.0|       0.0|       0.0|       0.0|       0.0|       0.0|       0.0|       1.0|       1.0|       1.0|       1.0|       1.0|       1.0|       1.0|       1.0|       1.0|       1.0|       1.0|       1.0|       8.0|      17.0|      34.0|      52.0|\n",
            "|     Rwanda|       0.0|       0.0|       0.0|       0.0|       0.0|       0.0|       0.0|       0.0|       0.0|       0.0|       0.0|       0.0|       0.0|       0.0|       0.0|       0.0|       0.0|       0.0|       0.0|       0.0|       0.0|       0.0|       0.0|       0.0|       0.0|       0.0|       0.0|       0.0|       0.0|       0.0|       0.0|       0.0|       0.0|       0.0|       0.0|       0.0|       0.0|       0.0|       0.0|       0.0|       0.0|       0.0|       0.0|       0.0|       0.0|       0.0|       0.0|       0.0|       0.0|       0.0|       0.0|       0.0|       1.0|       1.0|       5.0|       7.0|       8.0|\n",
            "|   Maldives|       0.0|       0.0|       0.0|       0.0|       0.0|       0.0|       0.0|       0.0|       0.0|       0.0|       0.0|       0.0|       0.0|       0.0|       0.0|       0.0|       0.0|       0.0|       0.0|       0.0|       0.0|       0.0|       0.0|       0.0|       0.0|       0.0|       0.0|       0.0|       0.0|       0.0|       0.0|       0.0|       0.0|       0.0|       0.0|       0.0|       0.0|       0.0|       0.0|       0.0|       0.0|       0.0|       0.0|       0.0|       0.0|       0.0|       4.0|       4.0|       6.0|       8.0|       8.0|       9.0|      10.0|      13.0|      13.0|      13.0|      13.0|\n",
            "|      Sudan|       0.0|       0.0|       0.0|       0.0|       0.0|       0.0|       0.0|       0.0|       0.0|       0.0|       0.0|       0.0|       0.0|       0.0|       0.0|       0.0|       0.0|       0.0|       0.0|       0.0|       0.0|       0.0|       0.0|       0.0|       0.0|       0.0|       0.0|       0.0|       0.0|       0.0|       0.0|       0.0|       0.0|       0.0|       0.0|       0.0|       0.0|       0.0|       0.0|       0.0|       0.0|       0.0|       0.0|       0.0|       0.0|       0.0|       0.0|       0.0|       0.0|       0.0|       0.0|       1.0|       1.0|       1.0|       1.0|       1.0|       2.0|\n",
            "|     France|       0.0|       0.0|       2.0|       3.0|       3.0|       3.0|       4.0|       5.0|       5.0|       5.0|       6.0|       6.0|       6.0|       6.0|       6.0|       6.0|       6.0|      11.0|      11.0|      11.0|      11.0|      11.0|      11.0|      11.0|      12.0|      12.0|      12.0|      12.0|      12.0|      12.0|      12.0|      12.0|      12.0|      12.0|      14.0|      18.0|      38.0|      57.0|     100.0|     130.0|     191.0|     204.0|     288.0|     380.0|     656.0|     957.0|    1134.0|    1217.0|    1792.0|    2290.0|    2290.0|    3678.0|    4487.0|    4523.0|    6668.0|    7699.0|    9052.0|\n",
            "+-----------+----------+----------+----------+----------+----------+----------+----------+----------+----------+----------+----------+----------+----------+----------+----------+----------+----------+----------+----------+----------+----------+----------+----------+----------+----------+----------+----------+----------+----------+----------+----------+----------+----------+----------+----------+----------+----------+----------+----------+----------+----------+----------+----------+----------+----------+----------+----------+----------+----------+----------+----------+----------+----------+----------+----------+----------+----------+\n",
            "only showing top 20 rows\n",
            "\n"
          ],
          "name": "stdout"
        }
      ]
    },
    {
      "cell_type": "code",
      "metadata": {
        "colab": {
          "base_uri": "https://localhost:8080/"
        },
        "id": "hglAC-QI0c2r",
        "outputId": "2957bda4-868c-4855-f244-94b6a80fbe1f"
      },
      "source": [
        "corona_df.groupBy(\"Country\").agg({'Confirmed': 'Sum', 'Recovered': 'Sum', 'Death' : 'Sum'}).orderBy(\"Sum(Confirmed)\", ascending=False).show()"
      ],
      "execution_count": null,
      "outputs": [
        {
          "output_type": "stream",
          "text": [
            "+--------------+--------------+----------+--------------+\n",
            "|       Country|sum(Recovered)|sum(Death)|sum(Confirmed)|\n",
            "+--------------+--------------+----------+--------------+\n",
            "|         China|     1428378.0|  103112.0|     3124622.0|\n",
            "|         Italy|       21954.0|   16221.0|      238049.0|\n",
            "|          Iran|       43977.0|    7166.0|      150833.0|\n",
            "|  Korea, South|        7443.0|    1048.0|      137889.0|\n",
            "|         Spain|        4398.0|    2325.0|       64917.0|\n",
            "|       Germany|         770.0|     106.0|       53847.0|\n",
            "|        France|         318.0|     930.0|       48132.0|\n",
            "|            US|         355.0|     691.0|       34228.0|\n",
            "|   Cruise Ship|        2894.0|     151.0|       22668.0|\n",
            "|   Switzerland|          66.0|     125.0|       15979.0|\n",
            "|         Japan|        1938.0|     275.0|       12584.0|\n",
            "|United Kingdom|         473.0|     268.0|       12086.0|\n",
            "|   Netherlands|          10.0|     189.0|       10548.0|\n",
            "|        Norway|          10.0|      18.0|       10231.0|\n",
            "|        Sweden|          10.0|      31.0|        8769.0|\n",
            "|       Belgium|          61.0|      46.0|        7655.0|\n",
            "|       Austria|          48.0|      14.0|        7256.0|\n",
            "|       Denmark|          13.0|      14.0|        7129.0|\n",
            "|     Singapore|        2316.0|       0.0|        4943.0|\n",
            "|      Malaysia|         758.0|       4.0|        4472.0|\n",
            "+--------------+--------------+----------+--------------+\n",
            "only showing top 20 rows\n",
            "\n"
          ],
          "name": "stdout"
        }
      ]
    },
    {
      "cell_type": "code",
      "metadata": {
        "colab": {
          "base_uri": "https://localhost:8080/"
        },
        "id": "0Jr0QpF60c44",
        "outputId": "4d8814e5-4531-4158-b1cc-b7c74fcf8ece"
      },
      "source": [
        "corona_df.select(\"*\").filter(\"Country == 'India'\").sort(\"Date\", ascending=False).show()"
      ],
      "execution_count": null,
      "outputs": [
        {
          "output_type": "stream",
          "text": [
            "+-----+-----+-------+----+----+----------+---------+-----+---------+-------------+----+\n",
            "|  _c0|State|Country| Lat|Long|      Date|Confirmed|Death|Recovered|state_cleaned|City|\n",
            "+-----+-----+-------+----+----+----------+---------+-----+---------+-------------+----+\n",
            "|26615| null|  India|21.0|78.0|2020-03-18|    156.0|  3.0|     14.0|    New Delhi|null|\n",
            "|26140| null|  India|21.0|78.0|2020-03-17|    142.0|  3.0|     14.0|    New Delhi|null|\n",
            "|25665| null|  India|21.0|78.0|2020-03-16|    119.0|  2.0|     13.0|    New Delhi|null|\n",
            "|25190| null|  India|21.0|78.0|2020-03-15|    113.0|  2.0|     13.0|    New Delhi|null|\n",
            "|24715| null|  India|21.0|78.0|2020-03-14|    102.0|  2.0|      4.0|    New Delhi|null|\n",
            "|24240| null|  India|21.0|78.0|2020-03-13|     82.0|  2.0|      4.0|    New Delhi|null|\n",
            "|23765| null|  India|21.0|78.0|2020-03-12|     73.0|  1.0|      4.0|    New Delhi|null|\n",
            "|23290| null|  India|21.0|78.0|2020-03-11|     62.0|  1.0|      4.0|    New Delhi|null|\n",
            "|22815| null|  India|21.0|78.0|2020-03-10|     56.0|  0.0|      4.0|    New Delhi|null|\n",
            "|22340| null|  India|21.0|78.0|2020-03-09|     43.0|  0.0|      3.0|    New Delhi|null|\n",
            "|21865| null|  India|21.0|78.0|2020-03-08|     39.0|  0.0|      3.0|    New Delhi|null|\n",
            "|21390| null|  India|21.0|78.0|2020-03-07|     34.0|  0.0|      3.0|    New Delhi|null|\n",
            "|20915| null|  India|21.0|78.0|2020-03-06|     31.0|  0.0|      3.0|    New Delhi|null|\n",
            "|20440| null|  India|21.0|78.0|2020-03-05|     30.0|  0.0|      3.0|    New Delhi|null|\n",
            "|19965| null|  India|21.0|78.0|2020-03-04|     28.0|  0.0|      3.0|    New Delhi|null|\n",
            "|19490| null|  India|21.0|78.0|2020-03-03|      5.0|  0.0|      3.0|    New Delhi|null|\n",
            "|19015| null|  India|21.0|78.0|2020-03-02|      5.0|  0.0|      3.0|    New Delhi|null|\n",
            "|18540| null|  India|21.0|78.0|2020-03-01|      3.0|  0.0|      3.0|    New Delhi|null|\n",
            "|18065| null|  India|21.0|78.0|2020-02-29|      3.0|  0.0|      3.0|    New Delhi|null|\n",
            "|17590| null|  India|21.0|78.0|2020-02-28|      3.0|  0.0|      3.0|    New Delhi|null|\n",
            "+-----+-----+-------+----+----+----------+---------+-----+---------+-------------+----+\n",
            "only showing top 20 rows\n",
            "\n"
          ],
          "name": "stdout"
        }
      ]
    },
    {
      "cell_type": "code",
      "metadata": {
        "colab": {
          "base_uri": "https://localhost:8080/"
        },
        "id": "SFDzFdV90c7X",
        "outputId": "6b4c221a-2213-40c8-f751-6c5200ced240"
      },
      "source": [
        "corona_newdf=corona_df.withColumn(\"Active\", corona_df.Confirmed - (corona_df.Recovered + corona_df.Death)).sort(\"Active\",ascending =False).show()"
      ],
      "execution_count": null,
      "outputs": [
        {
          "output_type": "stream",
          "text": [
            "+-----+-----+-------+-------+--------+----------+---------+------+---------+-------------+----+-------+\n",
            "|  _c0|State|Country|    Lat|    Long|      Date|Confirmed| Death|Recovered|state_cleaned|City| Active|\n",
            "+-----+-----+-------+-------+--------+----------+---------+------+---------+-------------+----+-------+\n",
            "|12979|Hubei|  China|30.9756|112.2707|2020-02-18|  61682.0|1921.0|   9128.0|        Hubei|null|50633.0|\n",
            "|12504|Hubei|  China|30.9756|112.2707|2020-02-17|  59989.0|1789.0|   7862.0|        Hubei|null|50338.0|\n",
            "|12029|Hubei|  China|30.9756|112.2707|2020-02-16|  58182.0|1696.0|   6639.0|        Hubei|null|49847.0|\n",
            "|13454|Hubei|  China|30.9756|112.2707|2020-02-19|  62031.0|2029.0|  10337.0|        Hubei|null|49665.0|\n",
            "|11554|Hubei|  China|30.9756|112.2707|2020-02-15|  56249.0|1596.0|   5623.0|        Hubei|null|49030.0|\n",
            "|14404|Hubei|  China|30.9756|112.2707|2020-02-21|  62662.0|2144.0|  11881.0|        Hubei|null|48637.0|\n",
            "|13929|Hubei|  China|30.9756|112.2707|2020-02-20|  62442.0|2144.0|  11788.0|        Hubei|null|48510.0|\n",
            "|11079|Hubei|  China|30.9756|112.2707|2020-02-14|  54406.0|1457.0|   4774.0|        Hubei|null|48175.0|\n",
            "|14879|Hubei|  China|30.9756|112.2707|2020-02-22|  64084.0|2346.0|  15299.0|        Hubei|null|46439.0|\n",
            "|15354|Hubei|  China|30.9756|112.2707|2020-02-23|  64084.0|2346.0|  15343.0|        Hubei|null|46395.0|\n",
            "|15829|Hubei|  China|30.9756|112.2707|2020-02-24|  64287.0|2495.0|  16748.0|        Hubei|null|45044.0|\n",
            "|10604|Hubei|  China|30.9756|112.2707|2020-02-13|  48206.0|1310.0|   3459.0|        Hubei|null|43437.0|\n",
            "|16304|Hubei|  China|30.9756|112.2707|2020-02-25|  64786.0|2563.0|  18971.0|        Hubei|null|43252.0|\n",
            "|16779|Hubei|  China|30.9756|112.2707|2020-02-26|  65187.0|2615.0|  20969.0|        Hubei|null|41603.0|\n",
            "|17254|Hubei|  China|30.9756|112.2707|2020-02-27|  65596.0|2641.0|  23383.0|        Hubei|null|39572.0|\n",
            "|17729|Hubei|  China|30.9756|112.2707|2020-02-28|  65914.0|2682.0|  26403.0|        Hubei|null|36829.0|\n",
            "|18204|Hubei|  China|30.9756|112.2707|2020-02-29|  66337.0|2727.0|  28993.0|        Hubei|null|34617.0|\n",
            "|18679|Hubei|  China|30.9756|112.2707|2020-03-01|  66907.0|2761.0|  31536.0|        Hubei|null|32610.0|\n",
            "|19154|Hubei|  China|30.9756|112.2707|2020-03-02|  67103.0|2803.0|  33934.0|        Hubei|null|30366.0|\n",
            "| 9654|Hubei|  China|30.9756|112.2707|2020-02-11|  33366.0|1068.0|   2639.0|        Hubei|null|29659.0|\n",
            "+-----+-----+-------+-------+--------+----------+---------+------+---------+-------------+----+-------+\n",
            "only showing top 20 rows\n",
            "\n"
          ],
          "name": "stdout"
        }
      ]
    },
    {
      "cell_type": "code",
      "metadata": {
        "colab": {
          "base_uri": "https://localhost:8080/"
        },
        "id": "VCSQbFRP0c-x",
        "outputId": "6b32150e-4dcf-4292-ac8b-2cd30bf792d7"
      },
      "source": [
        "corona_df.withColumn(\"Active\", corona_df.Confirmed - (corona_df.Recovered + corona_df.Death)).sort(\"Active\",ascending =False).show()"
      ],
      "execution_count": null,
      "outputs": [
        {
          "output_type": "stream",
          "text": [
            "+-----+-----+-------+-------+--------+----------+---------+------+---------+-------------+----+-------+\n",
            "|  _c0|State|Country|    Lat|    Long|      Date|Confirmed| Death|Recovered|state_cleaned|City| Active|\n",
            "+-----+-----+-------+-------+--------+----------+---------+------+---------+-------------+----+-------+\n",
            "|12979|Hubei|  China|30.9756|112.2707|2020-02-18|  61682.0|1921.0|   9128.0|        Hubei|null|50633.0|\n",
            "|12504|Hubei|  China|30.9756|112.2707|2020-02-17|  59989.0|1789.0|   7862.0|        Hubei|null|50338.0|\n",
            "|12029|Hubei|  China|30.9756|112.2707|2020-02-16|  58182.0|1696.0|   6639.0|        Hubei|null|49847.0|\n",
            "|13454|Hubei|  China|30.9756|112.2707|2020-02-19|  62031.0|2029.0|  10337.0|        Hubei|null|49665.0|\n",
            "|11554|Hubei|  China|30.9756|112.2707|2020-02-15|  56249.0|1596.0|   5623.0|        Hubei|null|49030.0|\n",
            "|14404|Hubei|  China|30.9756|112.2707|2020-02-21|  62662.0|2144.0|  11881.0|        Hubei|null|48637.0|\n",
            "|13929|Hubei|  China|30.9756|112.2707|2020-02-20|  62442.0|2144.0|  11788.0|        Hubei|null|48510.0|\n",
            "|11079|Hubei|  China|30.9756|112.2707|2020-02-14|  54406.0|1457.0|   4774.0|        Hubei|null|48175.0|\n",
            "|14879|Hubei|  China|30.9756|112.2707|2020-02-22|  64084.0|2346.0|  15299.0|        Hubei|null|46439.0|\n",
            "|15354|Hubei|  China|30.9756|112.2707|2020-02-23|  64084.0|2346.0|  15343.0|        Hubei|null|46395.0|\n",
            "|15829|Hubei|  China|30.9756|112.2707|2020-02-24|  64287.0|2495.0|  16748.0|        Hubei|null|45044.0|\n",
            "|10604|Hubei|  China|30.9756|112.2707|2020-02-13|  48206.0|1310.0|   3459.0|        Hubei|null|43437.0|\n",
            "|16304|Hubei|  China|30.9756|112.2707|2020-02-25|  64786.0|2563.0|  18971.0|        Hubei|null|43252.0|\n",
            "|16779|Hubei|  China|30.9756|112.2707|2020-02-26|  65187.0|2615.0|  20969.0|        Hubei|null|41603.0|\n",
            "|17254|Hubei|  China|30.9756|112.2707|2020-02-27|  65596.0|2641.0|  23383.0|        Hubei|null|39572.0|\n",
            "|17729|Hubei|  China|30.9756|112.2707|2020-02-28|  65914.0|2682.0|  26403.0|        Hubei|null|36829.0|\n",
            "|18204|Hubei|  China|30.9756|112.2707|2020-02-29|  66337.0|2727.0|  28993.0|        Hubei|null|34617.0|\n",
            "|18679|Hubei|  China|30.9756|112.2707|2020-03-01|  66907.0|2761.0|  31536.0|        Hubei|null|32610.0|\n",
            "|19154|Hubei|  China|30.9756|112.2707|2020-03-02|  67103.0|2803.0|  33934.0|        Hubei|null|30366.0|\n",
            "| 9654|Hubei|  China|30.9756|112.2707|2020-02-11|  33366.0|1068.0|   2639.0|        Hubei|null|29659.0|\n",
            "+-----+-----+-------+-------+--------+----------+---------+------+---------+-------------+----+-------+\n",
            "only showing top 20 rows\n",
            "\n"
          ],
          "name": "stdout"
        }
      ]
    },
    {
      "cell_type": "code",
      "metadata": {
        "id": "gVqMUBVc0dP-"
      },
      "source": [
        "corona_newdf = corona_df.withColumn(\"Active\", corona_df.Confirmed - (corona_df.Recovered + corona_df.Death))"
      ],
      "execution_count": null,
      "outputs": []
    },
    {
      "cell_type": "code",
      "metadata": {
        "colab": {
          "base_uri": "https://localhost:8080/"
        },
        "id": "xn6RPub_0dSM",
        "outputId": "8050096c-fd8c-482a-aa14-ddcf28f6cfd9"
      },
      "source": [
        "corona_newdf.show()"
      ],
      "execution_count": null,
      "outputs": [
        {
          "output_type": "stream",
          "text": [
            "+---+----------------+--------------------+--------+---------+----------+---------+-----+---------+--------------------+----+------+\n",
            "|_c0|           State|             Country|     Lat|     Long|      Date|Confirmed|Death|Recovered|       state_cleaned|City|Active|\n",
            "+---+----------------+--------------------+--------+---------+----------+---------+-----+---------+--------------------+----+------+\n",
            "|  0|            null|            Thailand|    15.0|    101.0|2020-01-22|      2.0|  0.0|      0.0|             Bangkok|null|   2.0|\n",
            "|  1|            null|               Japan|    36.0|    138.0|2020-01-22|      2.0|  0.0|      0.0|             Hiraide|null|   2.0|\n",
            "|  2|            null|           Singapore|  1.2833| 103.8333|2020-01-22|      0.0|  0.0|      0.0|           Singapore|null|   0.0|\n",
            "|  3|            null|               Nepal| 28.1667|    84.25|2020-01-22|      0.0|  0.0|      0.0|           Kathmandu|null|   0.0|\n",
            "|  4|            null|            Malaysia|     2.5|    112.5|2020-01-22|      0.0|  0.0|      0.0|             Sarawak|null|   0.0|\n",
            "|  5|British Columbia|              Canada| 49.2827|-123.1207|2020-01-22|      0.0|  0.0|      0.0|    British Columbia|null|   0.0|\n",
            "|  6| New South Wales|           Australia|-33.8688| 151.2093|2020-01-22|      0.0|  0.0|      0.0|     New South Wales|null|   0.0|\n",
            "|  7|        Victoria|           Australia|-37.8136| 144.9631|2020-01-22|      0.0|  0.0|      0.0|            Victoria|null|   0.0|\n",
            "|  8|      Queensland|           Australia|-28.0167|    153.4|2020-01-22|      0.0|  0.0|      0.0|          Queensland|null|   0.0|\n",
            "|  9|            null|            Cambodia|   11.55| 104.9167|2020-01-22|      0.0|  0.0|      0.0|          Phnom Penh|null|   0.0|\n",
            "| 10|            null|           Sri Lanka|     7.0|     81.0|2020-01-22|      0.0|  0.0|      0.0|Sri Jayawardenapu...|null|   0.0|\n",
            "| 11|            null|             Germany|    51.0|      9.0|2020-01-22|      0.0|  0.0|      0.0|              Berlin|null|   0.0|\n",
            "| 12|            null|             Finland|    64.0|     26.0|2020-01-22|      0.0|  0.0|      0.0|            Helsinki|null|   0.0|\n",
            "| 13|            null|United Arab Emirates|    24.0|     54.0|2020-01-22|      0.0|  0.0|      0.0|           Abu Dhabi|null|   0.0|\n",
            "| 14|            null|         Philippines|    13.0|    122.0|2020-01-22|      0.0|  0.0|      0.0|              Manila|null|   0.0|\n",
            "| 15|            null|               India|    21.0|     78.0|2020-01-22|      0.0|  0.0|      0.0|           New Delhi|null|   0.0|\n",
            "| 16|            null|               Italy|    43.0|     12.0|2020-01-22|      0.0|  0.0|      0.0|                Rome|null|   0.0|\n",
            "| 17|            null|              Sweden|    63.0|     16.0|2020-01-22|      0.0|  0.0|      0.0|           Stockholm|null|   0.0|\n",
            "| 18|            null|               Spain|    40.0|     -4.0|2020-01-22|      0.0|  0.0|      0.0|              Toledo|null|   0.0|\n",
            "| 19| South Australia|           Australia|-34.9285| 138.6007|2020-01-22|      0.0|  0.0|      0.0|     South Australia|null|   0.0|\n",
            "+---+----------------+--------------------+--------+---------+----------+---------+-----+---------+--------------------+----+------+\n",
            "only showing top 20 rows\n",
            "\n"
          ],
          "name": "stdout"
        }
      ]
    },
    {
      "cell_type": "code",
      "metadata": {
        "colab": {
          "base_uri": "https://localhost:8080/"
        },
        "id": "jerjB77a0dXX",
        "outputId": "5730df1e-3ed1-4fae-f443-7dd29e7f015d"
      },
      "source": [
        "corona_newdf.groupBy(\"Country\").sum(\"Active\").sort(\"sum(Active)\",ascending=False).show()"
      ],
      "execution_count": null,
      "outputs": [
        {
          "output_type": "stream",
          "text": [
            "+--------------+-----------+\n",
            "|       Country|sum(Active)|\n",
            "+--------------+-----------+\n",
            "|         China|  1593132.0|\n",
            "|         Italy|   199874.0|\n",
            "|  Korea, South|   129398.0|\n",
            "|          Iran|    99690.0|\n",
            "|         Spain|    58194.0|\n",
            "|       Germany|    52971.0|\n",
            "|        France|    46884.0|\n",
            "|            US|    33182.0|\n",
            "|   Cruise Ship|    19623.0|\n",
            "|   Switzerland|    15788.0|\n",
            "|United Kingdom|    11345.0|\n",
            "|         Japan|    10371.0|\n",
            "|   Netherlands|    10349.0|\n",
            "|        Norway|    10203.0|\n",
            "|        Sweden|     8728.0|\n",
            "|       Belgium|     7548.0|\n",
            "|       Austria|     7194.0|\n",
            "|       Denmark|     7102.0|\n",
            "|      Malaysia|     3710.0|\n",
            "|         Qatar|     2995.0|\n",
            "+--------------+-----------+\n",
            "only showing top 20 rows\n",
            "\n"
          ],
          "name": "stdout"
        }
      ]
    },
    {
      "cell_type": "code",
      "metadata": {
        "colab": {
          "base_uri": "https://localhost:8080/"
        },
        "id": "-p6Gs15hx5VD",
        "outputId": "ac6ceb45-b163-4769-ef8b-15b95f7bcd0c"
      },
      "source": [
        "corona_df.select(\"Country\",\"State\", \"Confirmed\", \"Recovered\").filter(col(\"Country\").isin('Australia','China')).groupBy('Country').sum().show()"
      ],
      "execution_count": null,
      "outputs": [
        {
          "output_type": "stream",
          "text": [
            "+---------+--------------+--------------+\n",
            "|  Country|sum(Confirmed)|sum(Recovered)|\n",
            "+---------+--------------+--------------+\n",
            "|    China|     3124622.0|     1428378.0|\n",
            "|Australia|        3524.0|         549.0|\n",
            "+---------+--------------+--------------+\n",
            "\n"
          ],
          "name": "stdout"
        }
      ]
    },
    {
      "cell_type": "code",
      "metadata": {
        "colab": {
          "base_uri": "https://localhost:8080/"
        },
        "id": "bAhAxCSNx5ov",
        "outputId": "83ebafd1-8d37-447b-ea7f-b3d73c455014"
      },
      "source": [
        "corona_df.select(\"Country\",\"State\",\"Confirmed\", \"Recovered\").filter(col(\"Country\").isin('Australia', 'China')).cube(\"Country\").sum().show()"
      ],
      "execution_count": null,
      "outputs": [
        {
          "output_type": "stream",
          "text": [
            "+---------+--------------+--------------+\n",
            "|  Country|sum(Confirmed)|sum(Recovered)|\n",
            "+---------+--------------+--------------+\n",
            "|     null|     3128146.0|     1428927.0|\n",
            "|    China|     3124622.0|     1428378.0|\n",
            "|Australia|        3524.0|         549.0|\n",
            "+---------+--------------+--------------+\n",
            "\n"
          ],
          "name": "stdout"
        }
      ]
    },
    {
      "cell_type": "code",
      "metadata": {
        "colab": {
          "base_uri": "https://localhost:8080/",
          "height": 391
        },
        "id": "hunTbKo9x5rZ",
        "outputId": "e1fe2b88-4703-4dfd-d8af-656719f3f44c"
      },
      "source": [
        "corona_df.select(\"Country\",\"State\",\"Confirmed\", \"Recovered\").filter(col(\"Country\").isin('Australia', 'Canada')).cube(\"Country\",\"State_cleaned\").sum().sort(asc(\"Country\")).show()"
      ],
      "execution_count": null,
      "outputs": [
        {
          "output_type": "error",
          "ename": "AnalysisException",
          "evalue": "ignored",
          "traceback": [
            "\u001b[0;31m---------------------------------------------------------------------------\u001b[0m",
            "\u001b[0;31mAnalysisException\u001b[0m                         Traceback (most recent call last)",
            "\u001b[0;32m<ipython-input-61-3dca10f75960>\u001b[0m in \u001b[0;36m<module>\u001b[0;34m()\u001b[0m\n\u001b[0;32m----> 1\u001b[0;31m \u001b[0mcorona_df\u001b[0m\u001b[0;34m.\u001b[0m\u001b[0mselect\u001b[0m\u001b[0;34m(\u001b[0m\u001b[0;34m\"Country\"\u001b[0m\u001b[0;34m,\u001b[0m\u001b[0;34m\"State\"\u001b[0m\u001b[0;34m,\u001b[0m\u001b[0;34m\"Confirmed\"\u001b[0m\u001b[0;34m,\u001b[0m \u001b[0;34m\"Recovered\"\u001b[0m\u001b[0;34m)\u001b[0m\u001b[0;34m.\u001b[0m\u001b[0mfilter\u001b[0m\u001b[0;34m(\u001b[0m\u001b[0mcol\u001b[0m\u001b[0;34m(\u001b[0m\u001b[0;34m\"Country\"\u001b[0m\u001b[0;34m)\u001b[0m\u001b[0;34m.\u001b[0m\u001b[0misin\u001b[0m\u001b[0;34m(\u001b[0m\u001b[0;34m'Australia'\u001b[0m\u001b[0;34m,\u001b[0m \u001b[0;34m'Canada'\u001b[0m\u001b[0;34m)\u001b[0m\u001b[0;34m)\u001b[0m\u001b[0;34m.\u001b[0m\u001b[0mcube\u001b[0m\u001b[0;34m(\u001b[0m\u001b[0;34m\"Country\"\u001b[0m\u001b[0;34m,\u001b[0m\u001b[0;34m\"State_cleaned\"\u001b[0m\u001b[0;34m)\u001b[0m\u001b[0;34m.\u001b[0m\u001b[0msum\u001b[0m\u001b[0;34m(\u001b[0m\u001b[0;34m)\u001b[0m\u001b[0;34m.\u001b[0m\u001b[0msort\u001b[0m\u001b[0;34m(\u001b[0m\u001b[0masc\u001b[0m\u001b[0;34m(\u001b[0m\u001b[0;34m\"Country\"\u001b[0m\u001b[0;34m)\u001b[0m\u001b[0;34m)\u001b[0m\u001b[0;34m.\u001b[0m\u001b[0mshow\u001b[0m\u001b[0;34m(\u001b[0m\u001b[0;34m)\u001b[0m\u001b[0;34m\u001b[0m\u001b[0;34m\u001b[0m\u001b[0m\n\u001b[0m",
            "\u001b[0;32m/content/spark-3.1.1-bin-hadoop2.7/python/pyspark/sql/group.py\u001b[0m in \u001b[0;36m_api\u001b[0;34m(self, *cols)\u001b[0m\n\u001b[1;32m     39\u001b[0m     \u001b[0;32mdef\u001b[0m \u001b[0m_api\u001b[0m\u001b[0;34m(\u001b[0m\u001b[0mself\u001b[0m\u001b[0;34m,\u001b[0m \u001b[0;34m*\u001b[0m\u001b[0mcols\u001b[0m\u001b[0;34m)\u001b[0m\u001b[0;34m:\u001b[0m\u001b[0;34m\u001b[0m\u001b[0;34m\u001b[0m\u001b[0m\n\u001b[1;32m     40\u001b[0m         \u001b[0mname\u001b[0m \u001b[0;34m=\u001b[0m \u001b[0mf\u001b[0m\u001b[0;34m.\u001b[0m\u001b[0m__name__\u001b[0m\u001b[0;34m\u001b[0m\u001b[0;34m\u001b[0m\u001b[0m\n\u001b[0;32m---> 41\u001b[0;31m         \u001b[0mjdf\u001b[0m \u001b[0;34m=\u001b[0m \u001b[0mgetattr\u001b[0m\u001b[0;34m(\u001b[0m\u001b[0mself\u001b[0m\u001b[0;34m.\u001b[0m\u001b[0m_jgd\u001b[0m\u001b[0;34m,\u001b[0m \u001b[0mname\u001b[0m\u001b[0;34m)\u001b[0m\u001b[0;34m(\u001b[0m\u001b[0m_to_seq\u001b[0m\u001b[0;34m(\u001b[0m\u001b[0mself\u001b[0m\u001b[0;34m.\u001b[0m\u001b[0msql_ctx\u001b[0m\u001b[0;34m.\u001b[0m\u001b[0m_sc\u001b[0m\u001b[0;34m,\u001b[0m \u001b[0mcols\u001b[0m\u001b[0;34m)\u001b[0m\u001b[0;34m)\u001b[0m\u001b[0;34m\u001b[0m\u001b[0;34m\u001b[0m\u001b[0m\n\u001b[0m\u001b[1;32m     42\u001b[0m         \u001b[0;32mreturn\u001b[0m \u001b[0mDataFrame\u001b[0m\u001b[0;34m(\u001b[0m\u001b[0mjdf\u001b[0m\u001b[0;34m,\u001b[0m \u001b[0mself\u001b[0m\u001b[0;34m.\u001b[0m\u001b[0msql_ctx\u001b[0m\u001b[0;34m)\u001b[0m\u001b[0;34m\u001b[0m\u001b[0;34m\u001b[0m\u001b[0m\n\u001b[1;32m     43\u001b[0m     \u001b[0m_api\u001b[0m\u001b[0;34m.\u001b[0m\u001b[0m__name__\u001b[0m \u001b[0;34m=\u001b[0m \u001b[0mf\u001b[0m\u001b[0;34m.\u001b[0m\u001b[0m__name__\u001b[0m\u001b[0;34m\u001b[0m\u001b[0;34m\u001b[0m\u001b[0m\n",
            "\u001b[0;32m/content/spark-3.1.1-bin-hadoop2.7/python/lib/py4j-0.10.9-src.zip/py4j/java_gateway.py\u001b[0m in \u001b[0;36m__call__\u001b[0;34m(self, *args)\u001b[0m\n\u001b[1;32m   1303\u001b[0m         \u001b[0manswer\u001b[0m \u001b[0;34m=\u001b[0m \u001b[0mself\u001b[0m\u001b[0;34m.\u001b[0m\u001b[0mgateway_client\u001b[0m\u001b[0;34m.\u001b[0m\u001b[0msend_command\u001b[0m\u001b[0;34m(\u001b[0m\u001b[0mcommand\u001b[0m\u001b[0;34m)\u001b[0m\u001b[0;34m\u001b[0m\u001b[0;34m\u001b[0m\u001b[0m\n\u001b[1;32m   1304\u001b[0m         return_value = get_return_value(\n\u001b[0;32m-> 1305\u001b[0;31m             answer, self.gateway_client, self.target_id, self.name)\n\u001b[0m\u001b[1;32m   1306\u001b[0m \u001b[0;34m\u001b[0m\u001b[0m\n\u001b[1;32m   1307\u001b[0m         \u001b[0;32mfor\u001b[0m \u001b[0mtemp_arg\u001b[0m \u001b[0;32min\u001b[0m \u001b[0mtemp_args\u001b[0m\u001b[0;34m:\u001b[0m\u001b[0;34m\u001b[0m\u001b[0;34m\u001b[0m\u001b[0m\n",
            "\u001b[0;32m/content/spark-3.1.1-bin-hadoop2.7/python/pyspark/sql/utils.py\u001b[0m in \u001b[0;36mdeco\u001b[0;34m(*a, **kw)\u001b[0m\n\u001b[1;32m    115\u001b[0m                 \u001b[0;31m# Hide where the exception came from that shows a non-Pythonic\u001b[0m\u001b[0;34m\u001b[0m\u001b[0;34m\u001b[0m\u001b[0;34m\u001b[0m\u001b[0m\n\u001b[1;32m    116\u001b[0m                 \u001b[0;31m# JVM exception message.\u001b[0m\u001b[0;34m\u001b[0m\u001b[0;34m\u001b[0m\u001b[0;34m\u001b[0m\u001b[0m\n\u001b[0;32m--> 117\u001b[0;31m                 \u001b[0;32mraise\u001b[0m \u001b[0mconverted\u001b[0m \u001b[0;32mfrom\u001b[0m \u001b[0;32mNone\u001b[0m\u001b[0;34m\u001b[0m\u001b[0;34m\u001b[0m\u001b[0m\n\u001b[0m\u001b[1;32m    118\u001b[0m             \u001b[0;32melse\u001b[0m\u001b[0;34m:\u001b[0m\u001b[0;34m\u001b[0m\u001b[0;34m\u001b[0m\u001b[0m\n\u001b[1;32m    119\u001b[0m                 \u001b[0;32mraise\u001b[0m\u001b[0;34m\u001b[0m\u001b[0;34m\u001b[0m\u001b[0m\n",
            "\u001b[0;31mAnalysisException\u001b[0m: cannot resolve '`State_cleaned`' given input columns: [Confirmed, Country, Recovered, State];\n'Aggregate [cube(Country#18, 'State_cleaned)], [Country#18, 'State_cleaned, sum(Confirmed#22) AS sum(Confirmed)#53113, sum(Recovered#24) AS sum(Recovered)#53114]\n+- Filter Country#18 IN (Australia,Canada)\n   +- Project [Country#18, State#17, Confirmed#22, Recovered#24]\n      +- Relation[_c0#16,State#17,Country#18,Lat#19,Long#20,Date#21,Confirmed#22,Death#23,Recovered#24,state_cleaned#25,City#26] csv\n"
          ]
        }
      ]
    },
    {
      "cell_type": "code",
      "metadata": {
        "colab": {
          "base_uri": "https://localhost:8080/",
          "height": 408
        },
        "id": "wASmp1gKx5uC",
        "outputId": "bd4ea125-fe2a-49e6-989f-ffb718c4130d"
      },
      "source": [
        "corona_df.select(\"Country\",\"State\",\"Confirmed\", \"Recovered\").filter(col(\"Country\").isin('Australia', 'Canada')).rollup(\"Country\",\"State_cleaned\").sum().sort(asc(\"Country\")).show()"
      ],
      "execution_count": null,
      "outputs": [
        {
          "output_type": "error",
          "ename": "AnalysisException",
          "evalue": "ignored",
          "traceback": [
            "\u001b[0;31m---------------------------------------------------------------------------\u001b[0m",
            "\u001b[0;31mAnalysisException\u001b[0m                         Traceback (most recent call last)",
            "\u001b[0;32m<ipython-input-62-5965b97a0bfd>\u001b[0m in \u001b[0;36m<module>\u001b[0;34m()\u001b[0m\n\u001b[0;32m----> 1\u001b[0;31m \u001b[0mcorona_df\u001b[0m\u001b[0;34m.\u001b[0m\u001b[0mselect\u001b[0m\u001b[0;34m(\u001b[0m\u001b[0;34m\"Country\"\u001b[0m\u001b[0;34m,\u001b[0m\u001b[0;34m\"State\"\u001b[0m\u001b[0;34m,\u001b[0m\u001b[0;34m\"Confirmed\"\u001b[0m\u001b[0;34m,\u001b[0m \u001b[0;34m\"Recovered\"\u001b[0m\u001b[0;34m)\u001b[0m\u001b[0;34m.\u001b[0m\u001b[0mfilter\u001b[0m\u001b[0;34m(\u001b[0m\u001b[0mcol\u001b[0m\u001b[0;34m(\u001b[0m\u001b[0;34m\"Country\"\u001b[0m\u001b[0;34m)\u001b[0m\u001b[0;34m.\u001b[0m\u001b[0misin\u001b[0m\u001b[0;34m(\u001b[0m\u001b[0;34m'Australia'\u001b[0m\u001b[0;34m,\u001b[0m \u001b[0;34m'Canada'\u001b[0m\u001b[0;34m)\u001b[0m\u001b[0;34m)\u001b[0m\u001b[0;34m.\u001b[0m\u001b[0mrollup\u001b[0m\u001b[0;34m(\u001b[0m\u001b[0;34m\"Country\"\u001b[0m\u001b[0;34m,\u001b[0m\u001b[0;34m\"State_cleaned\"\u001b[0m\u001b[0;34m)\u001b[0m\u001b[0;34m.\u001b[0m\u001b[0msum\u001b[0m\u001b[0;34m(\u001b[0m\u001b[0;34m)\u001b[0m\u001b[0;34m.\u001b[0m\u001b[0msort\u001b[0m\u001b[0;34m(\u001b[0m\u001b[0masc\u001b[0m\u001b[0;34m(\u001b[0m\u001b[0;34m\"Country\"\u001b[0m\u001b[0;34m)\u001b[0m\u001b[0;34m)\u001b[0m\u001b[0;34m.\u001b[0m\u001b[0mshow\u001b[0m\u001b[0;34m(\u001b[0m\u001b[0;34m)\u001b[0m\u001b[0;34m\u001b[0m\u001b[0;34m\u001b[0m\u001b[0m\n\u001b[0m",
            "\u001b[0;32m/content/spark-3.1.1-bin-hadoop2.7/python/pyspark/sql/group.py\u001b[0m in \u001b[0;36m_api\u001b[0;34m(self, *cols)\u001b[0m\n\u001b[1;32m     39\u001b[0m     \u001b[0;32mdef\u001b[0m \u001b[0m_api\u001b[0m\u001b[0;34m(\u001b[0m\u001b[0mself\u001b[0m\u001b[0;34m,\u001b[0m \u001b[0;34m*\u001b[0m\u001b[0mcols\u001b[0m\u001b[0;34m)\u001b[0m\u001b[0;34m:\u001b[0m\u001b[0;34m\u001b[0m\u001b[0;34m\u001b[0m\u001b[0m\n\u001b[1;32m     40\u001b[0m         \u001b[0mname\u001b[0m \u001b[0;34m=\u001b[0m \u001b[0mf\u001b[0m\u001b[0;34m.\u001b[0m\u001b[0m__name__\u001b[0m\u001b[0;34m\u001b[0m\u001b[0;34m\u001b[0m\u001b[0m\n\u001b[0;32m---> 41\u001b[0;31m         \u001b[0mjdf\u001b[0m \u001b[0;34m=\u001b[0m \u001b[0mgetattr\u001b[0m\u001b[0;34m(\u001b[0m\u001b[0mself\u001b[0m\u001b[0;34m.\u001b[0m\u001b[0m_jgd\u001b[0m\u001b[0;34m,\u001b[0m \u001b[0mname\u001b[0m\u001b[0;34m)\u001b[0m\u001b[0;34m(\u001b[0m\u001b[0m_to_seq\u001b[0m\u001b[0;34m(\u001b[0m\u001b[0mself\u001b[0m\u001b[0;34m.\u001b[0m\u001b[0msql_ctx\u001b[0m\u001b[0;34m.\u001b[0m\u001b[0m_sc\u001b[0m\u001b[0;34m,\u001b[0m \u001b[0mcols\u001b[0m\u001b[0;34m)\u001b[0m\u001b[0;34m)\u001b[0m\u001b[0;34m\u001b[0m\u001b[0;34m\u001b[0m\u001b[0m\n\u001b[0m\u001b[1;32m     42\u001b[0m         \u001b[0;32mreturn\u001b[0m \u001b[0mDataFrame\u001b[0m\u001b[0;34m(\u001b[0m\u001b[0mjdf\u001b[0m\u001b[0;34m,\u001b[0m \u001b[0mself\u001b[0m\u001b[0;34m.\u001b[0m\u001b[0msql_ctx\u001b[0m\u001b[0;34m)\u001b[0m\u001b[0;34m\u001b[0m\u001b[0;34m\u001b[0m\u001b[0m\n\u001b[1;32m     43\u001b[0m     \u001b[0m_api\u001b[0m\u001b[0;34m.\u001b[0m\u001b[0m__name__\u001b[0m \u001b[0;34m=\u001b[0m \u001b[0mf\u001b[0m\u001b[0;34m.\u001b[0m\u001b[0m__name__\u001b[0m\u001b[0;34m\u001b[0m\u001b[0;34m\u001b[0m\u001b[0m\n",
            "\u001b[0;32m/content/spark-3.1.1-bin-hadoop2.7/python/lib/py4j-0.10.9-src.zip/py4j/java_gateway.py\u001b[0m in \u001b[0;36m__call__\u001b[0;34m(self, *args)\u001b[0m\n\u001b[1;32m   1303\u001b[0m         \u001b[0manswer\u001b[0m \u001b[0;34m=\u001b[0m \u001b[0mself\u001b[0m\u001b[0;34m.\u001b[0m\u001b[0mgateway_client\u001b[0m\u001b[0;34m.\u001b[0m\u001b[0msend_command\u001b[0m\u001b[0;34m(\u001b[0m\u001b[0mcommand\u001b[0m\u001b[0;34m)\u001b[0m\u001b[0;34m\u001b[0m\u001b[0;34m\u001b[0m\u001b[0m\n\u001b[1;32m   1304\u001b[0m         return_value = get_return_value(\n\u001b[0;32m-> 1305\u001b[0;31m             answer, self.gateway_client, self.target_id, self.name)\n\u001b[0m\u001b[1;32m   1306\u001b[0m \u001b[0;34m\u001b[0m\u001b[0m\n\u001b[1;32m   1307\u001b[0m         \u001b[0;32mfor\u001b[0m \u001b[0mtemp_arg\u001b[0m \u001b[0;32min\u001b[0m \u001b[0mtemp_args\u001b[0m\u001b[0;34m:\u001b[0m\u001b[0;34m\u001b[0m\u001b[0;34m\u001b[0m\u001b[0m\n",
            "\u001b[0;32m/content/spark-3.1.1-bin-hadoop2.7/python/pyspark/sql/utils.py\u001b[0m in \u001b[0;36mdeco\u001b[0;34m(*a, **kw)\u001b[0m\n\u001b[1;32m    115\u001b[0m                 \u001b[0;31m# Hide where the exception came from that shows a non-Pythonic\u001b[0m\u001b[0;34m\u001b[0m\u001b[0;34m\u001b[0m\u001b[0;34m\u001b[0m\u001b[0m\n\u001b[1;32m    116\u001b[0m                 \u001b[0;31m# JVM exception message.\u001b[0m\u001b[0;34m\u001b[0m\u001b[0;34m\u001b[0m\u001b[0;34m\u001b[0m\u001b[0m\n\u001b[0;32m--> 117\u001b[0;31m                 \u001b[0;32mraise\u001b[0m \u001b[0mconverted\u001b[0m \u001b[0;32mfrom\u001b[0m \u001b[0;32mNone\u001b[0m\u001b[0;34m\u001b[0m\u001b[0;34m\u001b[0m\u001b[0m\n\u001b[0m\u001b[1;32m    118\u001b[0m             \u001b[0;32melse\u001b[0m\u001b[0;34m:\u001b[0m\u001b[0;34m\u001b[0m\u001b[0;34m\u001b[0m\u001b[0m\n\u001b[1;32m    119\u001b[0m                 \u001b[0;32mraise\u001b[0m\u001b[0;34m\u001b[0m\u001b[0;34m\u001b[0m\u001b[0m\n",
            "\u001b[0;31mAnalysisException\u001b[0m: cannot resolve '`State_cleaned`' given input columns: [Confirmed, Country, Recovered, State];\n'Aggregate [rollup(Country#18, 'State_cleaned)], [Country#18, 'State_cleaned, sum(Confirmed#22) AS sum(Confirmed)#53125, sum(Recovered#24) AS sum(Recovered)#53126]\n+- Filter Country#18 IN (Australia,Canada)\n   +- Project [Country#18, State#17, Confirmed#22, Recovered#24]\n      +- Relation[_c0#16,State#17,Country#18,Lat#19,Long#20,Date#21,Confirmed#22,Death#23,Recovered#24,state_cleaned#25,City#26] csv\n"
          ]
        }
      ]
    },
    {
      "cell_type": "code",
      "metadata": {
        "colab": {
          "base_uri": "https://localhost:8080/"
        },
        "id": "GnbViB1tx5wp",
        "outputId": "51d3bab9-6d8b-4d4b-fbd1-e689fc9e63cb"
      },
      "source": [
        "corona_df.corr('Confirmed', 'Recovered')"
      ],
      "execution_count": null,
      "outputs": [
        {
          "output_type": "execute_result",
          "data": {
            "text/plain": [
              "0.8603204886697154"
            ]
          },
          "metadata": {
            "tags": []
          },
          "execution_count": 64
        }
      ]
    },
    {
      "cell_type": "code",
      "metadata": {
        "colab": {
          "base_uri": "https://localhost:8080/"
        },
        "id": "nKrcu47Ex5zf",
        "outputId": "4dc2ed0e-85ff-4113-df25-48b727cd6dc9"
      },
      "source": [
        "corona_df.cache()"
      ],
      "execution_count": null,
      "outputs": [
        {
          "output_type": "execute_result",
          "data": {
            "text/plain": [
              "DataFrame[_c0: int, State: string, Country: string, Lat: double, Long: double, Date: string, Confirmed: double, Death: double, Recovered: double, state_cleaned: string, City: string]"
            ]
          },
          "metadata": {
            "tags": []
          },
          "execution_count": 65
        }
      ]
    },
    {
      "cell_type": "code",
      "metadata": {
        "colab": {
          "base_uri": "https://localhost:8080/"
        },
        "id": "tTL6ilKDx51u",
        "outputId": "11522047-1986-41c9-f34e-dcade793bbcc"
      },
      "source": [
        "%timeit corona_df.count()"
      ],
      "execution_count": null,
      "outputs": [
        {
          "output_type": "stream",
          "text": [
            "The slowest run took 10.51 times longer than the fastest. This could mean that an intermediate result is being cached.\n",
            "1 loop, best of 5: 74.4 ms per loop\n"
          ],
          "name": "stdout"
        }
      ]
    },
    {
      "cell_type": "code",
      "metadata": {
        "colab": {
          "base_uri": "https://localhost:8080/"
        },
        "id": "AKSKAX6qx54S",
        "outputId": "245d139a-b746-4afd-ab05-ba7935f875a6"
      },
      "source": [
        "from pyspark import StorageLevel\n",
        "corona_df.persist(StorageLevel.MEMORY_AND_DISK)"
      ],
      "execution_count": null,
      "outputs": [
        {
          "output_type": "execute_result",
          "data": {
            "text/plain": [
              "DataFrame[_c0: int, State: string, Country: string, Lat: double, Long: double, Date: string, Confirmed: double, Death: double, Recovered: double, state_cleaned: string, City: string]"
            ]
          },
          "metadata": {
            "tags": []
          },
          "execution_count": 67
        }
      ]
    },
    {
      "cell_type": "code",
      "metadata": {
        "colab": {
          "base_uri": "https://localhost:8080/"
        },
        "id": "OTKXhGtax56r",
        "outputId": "aa3faa4a-9e38-4c8e-8ee6-9059c6f83b51"
      },
      "source": [
        "%timeit corona_df.count()"
      ],
      "execution_count": null,
      "outputs": [
        {
          "output_type": "stream",
          "text": [
            "10 loops, best of 5: 56.8 ms per loop\n"
          ],
          "name": "stdout"
        }
      ]
    },
    {
      "cell_type": "code",
      "metadata": {
        "id": "RHjHhKdAx59b"
      },
      "source": [
        "pd = corona_df.toPandas()"
      ],
      "execution_count": null,
      "outputs": []
    },
    {
      "cell_type": "code",
      "metadata": {
        "colab": {
          "base_uri": "https://localhost:8080/",
          "height": 235
        },
        "id": "jFmWEpHEx6Bz",
        "outputId": "1cc99138-eaa9-4f63-bb90-109f991cf6dc"
      },
      "source": [
        "pd.corr()"
      ],
      "execution_count": null,
      "outputs": [
        {
          "output_type": "execute_result",
          "data": {
            "text/html": [
              "<div>\n",
              "<style scoped>\n",
              "    .dataframe tbody tr th:only-of-type {\n",
              "        vertical-align: middle;\n",
              "    }\n",
              "\n",
              "    .dataframe tbody tr th {\n",
              "        vertical-align: top;\n",
              "    }\n",
              "\n",
              "    .dataframe thead th {\n",
              "        text-align: right;\n",
              "    }\n",
              "</style>\n",
              "<table border=\"1\" class=\"dataframe\">\n",
              "  <thead>\n",
              "    <tr style=\"text-align: right;\">\n",
              "      <th></th>\n",
              "      <th>_c0</th>\n",
              "      <th>Lat</th>\n",
              "      <th>Long</th>\n",
              "      <th>Confirmed</th>\n",
              "      <th>Death</th>\n",
              "      <th>Recovered</th>\n",
              "    </tr>\n",
              "  </thead>\n",
              "  <tbody>\n",
              "    <tr>\n",
              "      <th>_c0</th>\n",
              "      <td>1.000000</td>\n",
              "      <td>-0.001248</td>\n",
              "      <td>-0.005936</td>\n",
              "      <td>0.043294</td>\n",
              "      <td>0.040456</td>\n",
              "      <td>0.043726</td>\n",
              "    </tr>\n",
              "    <tr>\n",
              "      <th>Lat</th>\n",
              "      <td>-0.001248</td>\n",
              "      <td>1.000000</td>\n",
              "      <td>-0.361478</td>\n",
              "      <td>0.005573</td>\n",
              "      <td>0.004607</td>\n",
              "      <td>-0.000010</td>\n",
              "    </tr>\n",
              "    <tr>\n",
              "      <th>Long</th>\n",
              "      <td>-0.005936</td>\n",
              "      <td>-0.361478</td>\n",
              "      <td>1.000000</td>\n",
              "      <td>0.099846</td>\n",
              "      <td>0.077052</td>\n",
              "      <td>0.079673</td>\n",
              "    </tr>\n",
              "    <tr>\n",
              "      <th>Confirmed</th>\n",
              "      <td>0.043294</td>\n",
              "      <td>0.005573</td>\n",
              "      <td>0.099846</td>\n",
              "      <td>1.000000</td>\n",
              "      <td>0.973958</td>\n",
              "      <td>0.860319</td>\n",
              "    </tr>\n",
              "    <tr>\n",
              "      <th>Death</th>\n",
              "      <td>0.040456</td>\n",
              "      <td>0.004607</td>\n",
              "      <td>0.077052</td>\n",
              "      <td>0.973958</td>\n",
              "      <td>1.000000</td>\n",
              "      <td>0.886997</td>\n",
              "    </tr>\n",
              "    <tr>\n",
              "      <th>Recovered</th>\n",
              "      <td>0.043726</td>\n",
              "      <td>-0.000010</td>\n",
              "      <td>0.079673</td>\n",
              "      <td>0.860319</td>\n",
              "      <td>0.886997</td>\n",
              "      <td>1.000000</td>\n",
              "    </tr>\n",
              "  </tbody>\n",
              "</table>\n",
              "</div>"
            ],
            "text/plain": [
              "                _c0       Lat      Long  Confirmed     Death  Recovered\n",
              "_c0        1.000000 -0.001248 -0.005936   0.043294  0.040456   0.043726\n",
              "Lat       -0.001248  1.000000 -0.361478   0.005573  0.004607  -0.000010\n",
              "Long      -0.005936 -0.361478  1.000000   0.099846  0.077052   0.079673\n",
              "Confirmed  0.043294  0.005573  0.099846   1.000000  0.973958   0.860319\n",
              "Death      0.040456  0.004607  0.077052   0.973958  1.000000   0.886997\n",
              "Recovered  0.043726 -0.000010  0.079673   0.860319  0.886997   1.000000"
            ]
          },
          "metadata": {
            "tags": []
          },
          "execution_count": 70
        }
      ]
    },
    {
      "cell_type": "code",
      "metadata": {
        "id": "rcX16eEO40m6"
      },
      "source": [
        "corona_df.createOrReplaceTempView(\"corona\")"
      ],
      "execution_count": null,
      "outputs": []
    },
    {
      "cell_type": "code",
      "metadata": {
        "colab": {
          "base_uri": "https://localhost:8080/"
        },
        "id": "Yg-1nJJQ40qC",
        "outputId": "73c9532f-7a3a-4e6e-9938-0702b8463228"
      },
      "source": [
        "spark.sql(\"select * from corona\").show()"
      ],
      "execution_count": null,
      "outputs": [
        {
          "output_type": "stream",
          "text": [
            "+---+----------------+--------------------+--------+---------+----------+---------+-----+---------+--------------------+----+\n",
            "|_c0|           State|             Country|     Lat|     Long|      Date|Confirmed|Death|Recovered|       state_cleaned|City|\n",
            "+---+----------------+--------------------+--------+---------+----------+---------+-----+---------+--------------------+----+\n",
            "|  0|            null|            Thailand|    15.0|    101.0|2020-01-22|      2.0|  0.0|      0.0|             Bangkok|null|\n",
            "|  1|            null|               Japan|    36.0|    138.0|2020-01-22|      2.0|  0.0|      0.0|             Hiraide|null|\n",
            "|  2|            null|           Singapore|  1.2833| 103.8333|2020-01-22|      0.0|  0.0|      0.0|           Singapore|null|\n",
            "|  3|            null|               Nepal| 28.1667|    84.25|2020-01-22|      0.0|  0.0|      0.0|           Kathmandu|null|\n",
            "|  4|            null|            Malaysia|     2.5|    112.5|2020-01-22|      0.0|  0.0|      0.0|             Sarawak|null|\n",
            "|  5|British Columbia|              Canada| 49.2827|-123.1207|2020-01-22|      0.0|  0.0|      0.0|    British Columbia|null|\n",
            "|  6| New South Wales|           Australia|-33.8688| 151.2093|2020-01-22|      0.0|  0.0|      0.0|     New South Wales|null|\n",
            "|  7|        Victoria|           Australia|-37.8136| 144.9631|2020-01-22|      0.0|  0.0|      0.0|            Victoria|null|\n",
            "|  8|      Queensland|           Australia|-28.0167|    153.4|2020-01-22|      0.0|  0.0|      0.0|          Queensland|null|\n",
            "|  9|            null|            Cambodia|   11.55| 104.9167|2020-01-22|      0.0|  0.0|      0.0|          Phnom Penh|null|\n",
            "| 10|            null|           Sri Lanka|     7.0|     81.0|2020-01-22|      0.0|  0.0|      0.0|Sri Jayawardenapu...|null|\n",
            "| 11|            null|             Germany|    51.0|      9.0|2020-01-22|      0.0|  0.0|      0.0|              Berlin|null|\n",
            "| 12|            null|             Finland|    64.0|     26.0|2020-01-22|      0.0|  0.0|      0.0|            Helsinki|null|\n",
            "| 13|            null|United Arab Emirates|    24.0|     54.0|2020-01-22|      0.0|  0.0|      0.0|           Abu Dhabi|null|\n",
            "| 14|            null|         Philippines|    13.0|    122.0|2020-01-22|      0.0|  0.0|      0.0|              Manila|null|\n",
            "| 15|            null|               India|    21.0|     78.0|2020-01-22|      0.0|  0.0|      0.0|           New Delhi|null|\n",
            "| 16|            null|               Italy|    43.0|     12.0|2020-01-22|      0.0|  0.0|      0.0|                Rome|null|\n",
            "| 17|            null|              Sweden|    63.0|     16.0|2020-01-22|      0.0|  0.0|      0.0|           Stockholm|null|\n",
            "| 18|            null|               Spain|    40.0|     -4.0|2020-01-22|      0.0|  0.0|      0.0|              Toledo|null|\n",
            "| 19| South Australia|           Australia|-34.9285| 138.6007|2020-01-22|      0.0|  0.0|      0.0|     South Australia|null|\n",
            "+---+----------------+--------------------+--------+---------+----------+---------+-----+---------+--------------------+----+\n",
            "only showing top 20 rows\n",
            "\n"
          ],
          "name": "stdout"
        }
      ]
    },
    {
      "cell_type": "code",
      "metadata": {
        "colab": {
          "base_uri": "https://localhost:8080/"
        },
        "id": "bts6M9qJ40sY",
        "outputId": "544b59a1-3099-4c49-8ec5-3352fe9a5f39"
      },
      "source": [
        "spark.sql(\"select * from corona where Country in ('Australia','Canada') order by Country\").show()"
      ],
      "execution_count": null,
      "outputs": [
        {
          "output_type": "stream",
          "text": [
            "+----+--------------------+---------+--------+--------+----------+---------+-----+---------+--------------------+----+\n",
            "| _c0|               State|  Country|     Lat|    Long|      Date|Confirmed|Death|Recovered|       state_cleaned|City|\n",
            "+----+--------------------+---------+--------+--------+----------+---------+-----+---------+--------------------+----+\n",
            "| 481|     New South Wales|Australia|-33.8688|151.2093|2020-01-23|      0.0|  0.0|      0.0|     New South Wales|null|\n",
            "|1433|          Queensland|Australia|-28.0167|   153.4|2020-01-25|      0.0|  0.0|      0.0|          Queensland|null|\n",
            "| 482|            Victoria|Australia|-37.8136|144.9631|2020-01-23|      0.0|  0.0|      0.0|            Victoria|null|\n",
            "|   6|     New South Wales|Australia|-33.8688|151.2093|2020-01-22|      0.0|  0.0|      0.0|     New South Wales|null|\n",
            "| 483|          Queensland|Australia|-28.0167|   153.4|2020-01-23|      0.0|  0.0|      0.0|          Queensland|null|\n",
            "|   8|          Queensland|Australia|-28.0167|   153.4|2020-01-22|      0.0|  0.0|      0.0|          Queensland|null|\n",
            "| 494|     South Australia|Australia|-34.9285|138.6007|2020-01-23|      0.0|  0.0|      0.0|     South Australia|null|\n",
            "|  22|From Diamond Prin...|Australia| 35.4437| 139.638|2020-01-22|      0.0|  0.0|      0.0|From Diamond Prin...|null|\n",
            "| 497|From Diamond Prin...|Australia| 35.4437| 139.638|2020-01-23|      0.0|  0.0|      0.0|From Diamond Prin...|null|\n",
            "|  61|            Tasmania|Australia|-41.4545|145.9707|2020-01-22|      0.0|  0.0|      0.0|            Tasmania|null|\n",
            "| 524|   Western Australia|Australia|-31.9505|115.8605|2020-01-23|      0.0|  0.0|      0.0|   Western Australia|null|\n",
            "| 957|            Victoria|Australia|-37.8136|144.9631|2020-01-24|      0.0|  0.0|      0.0|            Victoria|null|\n",
            "| 958|          Queensland|Australia|-28.0167|   153.4|2020-01-24|      0.0|  0.0|      0.0|          Queensland|null|\n",
            "| 402|Australian Capita...|Australia|-35.4735|149.0124|2020-01-22|      0.0|  0.0|      0.0|Australian Capita...|null|\n",
            "| 969|     South Australia|Australia|-34.9285|138.6007|2020-01-24|      0.0|  0.0|      0.0|     South Australia|null|\n",
            "|  19|     South Australia|Australia|-34.9285|138.6007|2020-01-22|      0.0|  0.0|      0.0|     South Australia|null|\n",
            "| 972|From Diamond Prin...|Australia| 35.4437| 139.638|2020-01-24|      0.0|  0.0|      0.0|From Diamond Prin...|null|\n",
            "|  71|  Northern Territory|Australia|-12.4634|130.8456|2020-01-22|      0.0|  0.0|      0.0|  Northern Territory|null|\n",
            "| 999|   Western Australia|Australia|-31.9505|115.8605|2020-01-24|      0.0|  0.0|      0.0|   Western Australia|null|\n",
            "| 546|  Northern Territory|Australia|-12.4634|130.8456|2020-01-23|      0.0|  0.0|      0.0|  Northern Territory|null|\n",
            "+----+--------------------+---------+--------+--------+----------+---------+-----+---------+--------------------+----+\n",
            "only showing top 20 rows\n",
            "\n"
          ],
          "name": "stdout"
        }
      ]
    },
    {
      "cell_type": "code",
      "metadata": {
        "colab": {
          "base_uri": "https://localhost:8080/"
        },
        "id": "3y7bDK1r40ue",
        "outputId": "0fda942d-c2fe-49fa-acfd-78f0e52d987a"
      },
      "source": [
        "spark.sql(\"select Country, State_cleaned, SUM(Confirmed), SUM(Recovered) from corona where Country in ('Australia','Canada') group by rollup(Country,State_cleaned) order by Country\").show()"
      ],
      "execution_count": null,
      "outputs": [
        {
          "output_type": "stream",
          "text": [
            "+---------+--------------------+--------------+--------------+\n",
            "|  Country|       State_cleaned|sum(Confirmed)|sum(Recovered)|\n",
            "+---------+--------------------+--------------+--------------+\n",
            "|     null|                null|        6662.0|         729.0|\n",
            "|Australia|          Queensland|         691.0|         125.0|\n",
            "|Australia|Australian Capita...|          10.0|           0.0|\n",
            "|Australia|     New South Wales|        1519.0|         168.0|\n",
            "|Australia|            Tasmania|          58.0|           0.0|\n",
            "|Australia|            Victoria|         708.0|         188.0|\n",
            "|Australia|From Diamond Prin...|          55.0|           0.0|\n",
            "|Australia|                null|        3524.0|         549.0|\n",
            "|Australia|  Northern Territory|          11.0|           0.0|\n",
            "|Australia|   Western Australia|         192.0|           0.0|\n",
            "|Australia|     South Australia|         280.0|          68.0|\n",
            "|   Canada|      Grand Princess|          25.0|           0.0|\n",
            "|   Canada|Newfoundland and ...|           8.0|           0.0|\n",
            "|   Canada|        Saskatchewan|          28.0|           0.0|\n",
            "|   Canada|         Nova Scotia|          24.0|           0.0|\n",
            "|   Canada|    British Columbia|         993.0|          75.0|\n",
            "|   Canada|       New Brunswick|          31.0|           0.0|\n",
            "|   Canada|                null|        3138.0|         180.0|\n",
            "|   Canada|             Ontario|        1282.0|         105.0|\n",
            "|   Canada|             Alberta|         383.0|           0.0|\n",
            "+---------+--------------------+--------------+--------------+\n",
            "only showing top 20 rows\n",
            "\n"
          ],
          "name": "stdout"
        }
      ]
    },
    {
      "cell_type": "code",
      "metadata": {
        "colab": {
          "base_uri": "https://localhost:8080/"
        },
        "id": "v3-ygh4h40xN",
        "outputId": "2dd38e96-c8aa-4dc7-cafe-65d9397b37b6"
      },
      "source": [
        "spark.sql(\"select Country, State_cleaned, SUM(Confirmed), SUM(Recovered) from corona where Country in ('Australia','Canada') group by cube(Country,State_cleaned) order by Country\").show()"
      ],
      "execution_count": null,
      "outputs": [
        {
          "output_type": "stream",
          "text": [
            "+-------+--------------------+--------------+--------------+\n",
            "|Country|       State_cleaned|sum(Confirmed)|sum(Recovered)|\n",
            "+-------+--------------------+--------------+--------------+\n",
            "|   null|From Diamond Prin...|          55.0|           0.0|\n",
            "|   null|     New South Wales|        1519.0|         168.0|\n",
            "|   null|            Tasmania|          58.0|           0.0|\n",
            "|   null|      Grand Princess|          25.0|           0.0|\n",
            "|   null|Newfoundland and ...|           8.0|           0.0|\n",
            "|   null|            Manitoba|          42.0|           0.0|\n",
            "|   null|             Ontario|        1282.0|         105.0|\n",
            "|   null|   Western Australia|         192.0|           0.0|\n",
            "|   null|             Alberta|         383.0|           0.0|\n",
            "|   null|  Northern Territory|          11.0|           0.0|\n",
            "|   null|            Victoria|         708.0|         188.0|\n",
            "|   null|        Saskatchewan|          28.0|           0.0|\n",
            "|   null|                null|        6662.0|         729.0|\n",
            "|   null|Australian Capita...|          10.0|           0.0|\n",
            "|   null|       New Brunswick|          31.0|           0.0|\n",
            "|   null|          Queensland|         691.0|         125.0|\n",
            "|   null|              Quebec|         318.0|           0.0|\n",
            "|   null|         Nova Scotia|          24.0|           0.0|\n",
            "|   null|Prince Edward Island|           4.0|           0.0|\n",
            "|   null|     South Australia|         280.0|          68.0|\n",
            "+-------+--------------------+--------------+--------------+\n",
            "only showing top 20 rows\n",
            "\n"
          ],
          "name": "stdout"
        }
      ]
    },
    {
      "cell_type": "code",
      "metadata": {
        "id": "yAZG76I-40zE"
      },
      "source": [
        ""
      ],
      "execution_count": null,
      "outputs": []
    },
    {
      "cell_type": "code",
      "metadata": {
        "colab": {
          "base_uri": "https://localhost:8080/"
        },
        "id": "csdLNzbMuUUD",
        "outputId": "ec8faeb5-3415-4c35-e911-c59af1921afa"
      },
      "source": [
        "from google.colab import drive\n",
        "drive.mount('/content/drive')"
      ],
      "execution_count": 3,
      "outputs": [
        {
          "output_type": "stream",
          "text": [
            "Drive already mounted at /content/drive; to attempt to forcibly remount, call drive.mount(\"/content/drive\", force_remount=True).\n"
          ],
          "name": "stdout"
        }
      ]
    },
    {
      "cell_type": "code",
      "metadata": {
        "id": "WBHNknzj401Y",
        "colab": {
          "base_uri": "https://localhost:8080/"
        },
        "outputId": "ea608e50-6d30-4207-ee28-3a43d810f96d"
      },
      "source": [
        "cd '/content/drive/MyDrive/Pyspark'"
      ],
      "execution_count": 5,
      "outputs": [
        {
          "output_type": "stream",
          "text": [
            "/content/drive/MyDrive/Pyspark\n"
          ],
          "name": "stdout"
        }
      ]
    },
    {
      "cell_type": "code",
      "metadata": {
        "colab": {
          "base_uri": "https://localhost:8080/",
          "height": 35
        },
        "id": "KfmfyBcSvlBp",
        "outputId": "52345740-ad65-4e86-8859-6dca7ce7ccd9"
      },
      "source": [
        "%pwd\n"
      ],
      "execution_count": 6,
      "outputs": [
        {
          "output_type": "execute_result",
          "data": {
            "application/vnd.google.colaboratory.intrinsic+json": {
              "type": "string"
            },
            "text/plain": [
              "'/content/drive/My Drive/Pyspark'"
            ]
          },
          "metadata": {
            "tags": []
          },
          "execution_count": 6
        }
      ]
    },
    {
      "cell_type": "code",
      "metadata": {
        "colab": {
          "base_uri": "https://localhost:8080/"
        },
        "id": "CVoZmg2uvlE8",
        "outputId": "68a61529-26dd-48df-c4ac-08a7fb4e5061"
      },
      "source": [
        "!git clone https://github.com/CharanKadari/Twitter-and-Corona-Spark-project.git"
      ],
      "execution_count": 7,
      "outputs": [
        {
          "output_type": "stream",
          "text": [
            "Cloning into 'Twitter-and-Corona-Spark-project'...\n",
            "warning: You appear to have cloned an empty repository.\n"
          ],
          "name": "stdout"
        }
      ]
    },
    {
      "cell_type": "code",
      "metadata": {
        "id": "bnqxqx8u405K"
      },
      "source": [
        ""
      ],
      "execution_count": null,
      "outputs": []
    }
  ]
}